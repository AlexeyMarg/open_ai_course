{
 "cells": [
  {
   "cell_type": "markdown",
   "id": "f083755c",
   "metadata": {},
   "source": [
    "# Градиентный бустинг"
   ]
  },
  {
   "cell_type": "code",
   "execution_count": 121,
   "id": "65ed14cf",
   "metadata": {},
   "outputs": [],
   "source": [
    "import numpy as np\n",
    "import pandas as pd\n",
    "import matplotlib.pyplot as plt"
   ]
  },
  {
   "cell_type": "markdown",
   "id": "70c50be6",
   "metadata": {},
   "source": [
    "Создадим датасет в виде зашумленного косинуса"
   ]
  },
  {
   "cell_type": "code",
   "execution_count": 122,
   "id": "0dfdce5b",
   "metadata": {},
   "outputs": [],
   "source": [
    "X = np.random.rand(100) * 10 - 5 "
   ]
  },
  {
   "cell_type": "code",
   "execution_count": 123,
   "id": "07daa288",
   "metadata": {},
   "outputs": [
    {
     "data": {
      "text/plain": [
       "array([-0.37010752, -0.80776086, -0.90945653, -0.85508137,  0.1013511 ])"
      ]
     },
     "execution_count": 123,
     "metadata": {},
     "output_type": "execute_result"
    }
   ],
   "source": [
    "y = np.cos(X) +np.random.rand(100)/2 - 0.25\n",
    "y[:5]"
   ]
  },
  {
   "cell_type": "code",
   "execution_count": 124,
   "id": "ef2d6b8c",
   "metadata": {},
   "outputs": [
    {
     "data": {
      "text/plain": [
       "<matplotlib.collections.PathCollection at 0x26d4b757788>"
      ]
     },
     "execution_count": 124,
     "metadata": {},
     "output_type": "execute_result"
    },
    {
     "data": {
      "image/png": "[encoded data removed]",
      "text/plain": [
       "<Figure size 432x288 with 1 Axes>"
      ]
     },
     "metadata": {
      "needs_background": "light"
     },
     "output_type": "display_data"
    }
   ],
   "source": [
    "plt.plot(np.linspace(-5, 5, 100), np.cos(np.linspace(-5, 5, 100)))\n",
    "plt.scatter(X, y, c='r')"
   ]
  },
  {
   "cell_type": "markdown",
   "id": "5ac9c3b1",
   "metadata": {},
   "source": [
    "## Классический GBM алгоритм\n",
    "\n",
    "- набор данных $\\large \\left\\{ (x_i, y_i) \\right\\}_{i=1, \\ldots,n}$;\n",
    "- число итераций $\\large M$;\n",
    "- выбор функции потерь $\\large L(y, f)$ с выписанным градиентом;\n",
    "- выбор семейства функций базовых алгоритмов $\\large h(x, \\theta)$, с процедурой их обучения;\n",
    "- дополнительные гиперпараметры $\\large h(x, \\theta)$, например, глубина дерева у деревьев решений;"
   ]
  },
  {
   "cell_type": "markdown",
   "id": "5811df13",
   "metadata": {},
   "source": [
    "Единственный момент, который остался без внимания — начальное приближение $\\large f_0(x)$. Для простоты, в качестве инициализации используют просто константное значение $\\large \\gamma$. Его, а также оптимальный коэффициент $\\large \\rho $ находят бинарным поиском, или другим line search алгоритмом относительно исходной функции потерь (а не градиента). Итак, GBM алгоритм:\n",
    "\n",
    "\n",
    "1. Инициализировать GBM константным значением $\\large \\hat{f}(x) = \\hat{f}_0, \\hat{f}_0 = \\gamma, \\gamma \\in \\mathbb{R}$\n",
    "$\\large \\hat{f}_0 = \\underset{\\gamma}{\\arg\\min} \\ \\sum_{i = 1}^{n} L(y_i, \\gamma)$\n",
    "2. Для каждой итерации $\\large t = 1, \\dots, M$ повторять:\n",
    "   \n",
    "    2.1 Посчитать псевдо-остатки $\\large r_t$\n",
    "    $\\large r_{it} = -\\left[\\frac{\\partial L(y_i, f(x_i))}{\\partial f(x_i)}\\right]_{f(x)=\\hat{f}(x)}, \\quad for i=1,\\ldots,n$\n",
    "\n",
    "    2.2 Построить новый базовый алгоритм $\\large h_t(x)$ как регрессию на псевдо-остатках $\\large \\left\\{ (x_i, r_{it}) \\right\\}_{i=1, \\ldots,n}$\n",
    "    \n",
    "    2.3 Найти оптимальный коэффициент $\\large \\rho_t $ при $\\large h_t(x)$ относительно исходной функции потерь\n",
    "$\\large \\rho_t = \\underset{\\rho}{\\arg\\min} \\ \\sum_{i = 1}^{n} L(y_i, \\hat{f}(x_i) + \\rho \\cdot h(x_i, \\theta))$\n",
    "    \n",
    "    2.4 Сохранить $\\large \\hat{f_t}(x) = \\rho_t \\cdot h_t(x)$\n",
    "    \n",
    "    2.5 Обновить текущее приближение $\\large \\hat{f}(x)$\n",
    "$\\large \\hat{f}(x) \\leftarrow \\hat{f}(x) + \\hat{f_t}(x) = \\sum_{i = 0}^{t} \\hat{f_i}(x)$\n",
    "\n",
    "1. Скомпоновать итоговую GBM модель $\\large \\hat{f}(x)$\n",
    "$\\large \\hat{f}(x) = \\sum_{i = 0}^M \\hat{f_i}(x) $"
   ]
  },
  {
   "cell_type": "markdown",
   "id": "01ce8dea",
   "metadata": {},
   "source": [
    "## Пошаговый пример работы GBM"
   ]
  },
  {
   "cell_type": "markdown",
   "id": "e1ee3ead",
   "metadata": {},
   "source": [
    "Игрушечные данные $\\large \\left\\{ (x_i, y_i) \\right\\}_{i=1, \\ldots,100}$ ✓\n",
    "\n",
    "Число итераций $\\large M = 3$ ✓;\n",
    "\n",
    "Среднеквадратичная функция потерь $\\large L(y, f) = (y-f)^2$ ✓\n",
    "\n",
    "Градиент $\\large L(y, f) = L_2$ loss это просто остатки $\\large r = (y - f)$ ✓;\n",
    "\n",
    "Деревья решений в качестве базовых алгоритмов $\\large h(x)$ ✓;\n",
    "\n",
    "Гиперпараметры деревьев решений: глубина деревьев равна 2 ✓;\n",
    "\n",
    "У среднеквадратичной ошибки все просто и с инициализацией $\\large \\gamma$ и с коэффициентами $\\large \\rho_t$. А именно, инициализировать GBM мы будем средним значением $\\large \\gamma = \\frac{1}{n} \\cdot \\sum_{i = 1}^n y_i$, а все $\\large \\rho_t$ равны 1.\n"
   ]
  },
  {
   "cell_type": "code",
   "execution_count": 125,
   "id": "a8d65b9f",
   "metadata": {},
   "outputs": [],
   "source": [
    "from sklearn.tree import DecisionTreeRegressor\n",
    "\n",
    "estimator = DecisionTreeRegressor(max_depth=2)\n",
    "n_estimators = 100"
   ]
  },
  {
   "cell_type": "code",
   "execution_count": 126,
   "id": "c82c8b35",
   "metadata": {},
   "outputs": [],
   "source": [
    "gamma = np.sum(y) / len(y)\n",
    "def f(x):\n",
    "    return np.ones(len(y)) * gamma\n",
    "\n",
    "estimators = [f]\n",
    "rho = [1]\n",
    "r = []"
   ]
  },
  {
   "cell_type": "code",
   "execution_count": 127,
   "id": "796b97c2",
   "metadata": {},
   "outputs": [],
   "source": [
    "def gbm_predict(estimators, rho, x):\n",
    "    y = estimators[0](x)\n",
    "    for i in range(1, len(estimators)):\n",
    "        y += rho[i] * estimators[i].predict(x)\n",
    "    return y"
   ]
  },
  {
   "cell_type": "code",
   "execution_count": 129,
   "id": "bb9aa73d",
   "metadata": {},
   "outputs": [],
   "source": [
    "for i in range(1, n_estimators):\n",
    "    if i == 1:\n",
    "        y_pred = estimators[0](X)\n",
    "    else:\n",
    "        y_pred = gbm_predict(estimators, rho, X.reshape(-1, 1))\n",
    "    r_it = -2/len(y) * (y_pred - y)\n",
    "    f_t = DecisionTreeRegressor(max_depth=2)\n",
    "    f_t.fit(X.reshape(-1, 1), r_it)\n",
    "    rho_t = 1\n",
    "    estimators.append(f_t)\n",
    "    rho.append(rho_t)\n",
    "    r.append(r_it)"
   ]
  },
  {
   "cell_type": "code",
   "execution_count": 130,
   "id": "9a930846",
   "metadata": {},
   "outputs": [
    {
     "data": {
      "text/plain": [
       "(1,\n",
       " DecisionTreeRegressor(criterion='mse', max_depth=2, max_features=None,\n",
       "                       max_leaf_nodes=None, min_impurity_decrease=0.0,\n",
       "                       min_impurity_split=None, min_samples_leaf=1,\n",
       "                       min_samples_split=2, min_weight_fraction_leaf=0.0,\n",
       "                       presort=False, random_state=None, splitter='best'),\n",
       " 101,\n",
       " 101)"
      ]
     },
     "execution_count": 130,
     "metadata": {},
     "output_type": "execute_result"
    }
   ],
   "source": [
    "rho[0], estimators[1], len(rho), len(estimators)"
   ]
  },
  {
   "cell_type": "code",
   "execution_count": null,
   "id": "ae49dad2",
   "metadata": {},
   "outputs": [],
   "source": []
  },
  {
   "cell_type": "code",
   "execution_count": 131,
   "id": "67025c76",
   "metadata": {},
   "outputs": [],
   "source": [
    "data = np.linspace(-5, 5, 100)\n",
    "y_pred = gbm_predict(estimators, rho, data.reshape(-1, 1))"
   ]
  },
  {
   "cell_type": "code",
   "execution_count": 132,
   "id": "cf16f1e3",
   "metadata": {},
   "outputs": [
    {
     "data": {
      "text/plain": [
       "[<matplotlib.lines.Line2D at 0x26d4b7b2608>]"
      ]
     },
     "execution_count": 132,
     "metadata": {},
     "output_type": "execute_result"
    },
    {
     "data": {
      "image/png": "[encoded data removed]",
      "text/plain": [
       "<Figure size 432x288 with 1 Axes>"
      ]
     },
     "metadata": {
      "needs_background": "light"
     },
     "output_type": "display_data"
    }
   ],
   "source": [
    "plt.plot(data, np.cos(data))\n",
    "plt.plot(data, y_pred)"
   ]
  },
  {
   "cell_type": "code",
   "execution_count": null,
   "id": "896e55af",
   "metadata": {},
   "outputs": [],
   "source": []
  },
  {
   "cell_type": "code",
   "execution_count": null,
   "id": "7347d541",
   "metadata": {},
   "outputs": [],
   "source": []
  }
 ],
 "metadata": {
  "kernelspec": {
   "display_name": "Python 3 (ipykernel)",
   "language": "python",
   "name": "python3"
  },
  "language_info": {
   "codemirror_mode": {
    "name": "ipython",
    "version": 3
   },
   "file_extension": ".py",
   "mimetype": "text/x-python",
   "name": "python",
   "nbconvert_exporter": "python",
   "pygments_lexer": "ipython3",
   "version": "3.7.5"
  }
 },
 "nbformat": 4,
 "nbformat_minor": 5
}
