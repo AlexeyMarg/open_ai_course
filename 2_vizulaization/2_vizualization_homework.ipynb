{
 "cells": [
  {
   "cell_type": "code",
   "execution_count": 2,
   "id": "5e358817",
   "metadata": {},
   "outputs": [],
   "source": [
    "import pandas as pd\n",
    "import numpy as np\n",
    "import seaborn as sns\n",
    "import matplotlib.pyplot as plt"
   ]
  },
  {
   "cell_type": "markdown",
   "id": "e9b27faf",
   "metadata": {},
   "source": [
    "## Загрузка данных"
   ]
  },
  {
   "cell_type": "code",
   "execution_count": 75,
   "id": "43a6af88",
   "metadata": {},
   "outputs": [
    {
     "data": {
      "text/html": [
       "<div>\n",
       "<style scoped>\n",
       "    .dataframe tbody tr th:only-of-type {\n",
       "        vertical-align: middle;\n",
       "    }\n",
       "\n",
       "    .dataframe tbody tr th {\n",
       "        vertical-align: top;\n",
       "    }\n",
       "\n",
       "    .dataframe thead th {\n",
       "        text-align: right;\n",
       "    }\n",
       "</style>\n",
       "<table border=\"1\" class=\"dataframe\">\n",
       "  <thead>\n",
       "    <tr style=\"text-align: right;\">\n",
       "      <th></th>\n",
       "      <th>url</th>\n",
       "      <th>domain</th>\n",
       "      <th>post_id</th>\n",
       "      <th>published</th>\n",
       "      <th>author</th>\n",
       "      <th>flow</th>\n",
       "      <th>polling</th>\n",
       "      <th>content_len</th>\n",
       "      <th>title</th>\n",
       "      <th>comments</th>\n",
       "      <th>favs</th>\n",
       "      <th>views</th>\n",
       "      <th>votes_plus</th>\n",
       "      <th>votes_minus</th>\n",
       "      <th>views_lognorm</th>\n",
       "      <th>favs_lognorm</th>\n",
       "      <th>comments_lognorm</th>\n",
       "    </tr>\n",
       "  </thead>\n",
       "  <tbody>\n",
       "    <tr>\n",
       "      <th>0</th>\n",
       "      <td>https://habrahabr.ru/post/18284/</td>\n",
       "      <td>habrahabr.ru</td>\n",
       "      <td>18284</td>\n",
       "      <td>2008-01-01 18:19:00</td>\n",
       "      <td>@Tapac</td>\n",
       "      <td>develop</td>\n",
       "      <td>False</td>\n",
       "      <td>4305</td>\n",
       "      <td>Новогодний подарок блоггерам — WordPress 2.3.2</td>\n",
       "      <td>0</td>\n",
       "      <td>0</td>\n",
       "      <td>236</td>\n",
       "      <td>0.0</td>\n",
       "      <td>0.0</td>\n",
       "      <td>-0.792687</td>\n",
       "      <td>-1.344075</td>\n",
       "      <td>-2.436871</td>\n",
       "    </tr>\n",
       "    <tr>\n",
       "      <th>1</th>\n",
       "      <td>https://habrahabr.ru/post/18285/</td>\n",
       "      <td>habrahabr.ru</td>\n",
       "      <td>18285</td>\n",
       "      <td>2008-01-01 18:30:00</td>\n",
       "      <td>@DezmASter</td>\n",
       "      <td>design</td>\n",
       "      <td>False</td>\n",
       "      <td>7344</td>\n",
       "      <td>Сумасшедшие яйца, или сервис для отслеживания ...</td>\n",
       "      <td>1</td>\n",
       "      <td>1</td>\n",
       "      <td>353</td>\n",
       "      <td>1.0</td>\n",
       "      <td>0.0</td>\n",
       "      <td>-0.485214</td>\n",
       "      <td>-0.831946</td>\n",
       "      <td>-1.873193</td>\n",
       "    </tr>\n",
       "    <tr>\n",
       "      <th>2</th>\n",
       "      <td>https://habrahabr.ru/post/18286/</td>\n",
       "      <td>habrahabr.ru</td>\n",
       "      <td>18286</td>\n",
       "      <td>2008-01-01 18:34:00</td>\n",
       "      <td>@DezmASter</td>\n",
       "      <td>design</td>\n",
       "      <td>False</td>\n",
       "      <td>8431</td>\n",
       "      <td>Сумасшедшие яйца, или сервис для отслеживания ...</td>\n",
       "      <td>47</td>\n",
       "      <td>72</td>\n",
       "      <td>1200</td>\n",
       "      <td>45.0</td>\n",
       "      <td>5.0</td>\n",
       "      <td>0.446090</td>\n",
       "      <td>1.794023</td>\n",
       "      <td>0.574656</td>\n",
       "    </tr>\n",
       "    <tr>\n",
       "      <th>3</th>\n",
       "      <td>https://habrahabr.ru/post/18291/</td>\n",
       "      <td>habrahabr.ru</td>\n",
       "      <td>18291</td>\n",
       "      <td>2008-01-02 01:32:00</td>\n",
       "      <td>@Taoorus</td>\n",
       "      <td>design</td>\n",
       "      <td>False</td>\n",
       "      <td>5662</td>\n",
       "      <td>Сглаживание шрифтов, и субпиксельная отрисовка</td>\n",
       "      <td>102</td>\n",
       "      <td>36</td>\n",
       "      <td>5700</td>\n",
       "      <td>72.0</td>\n",
       "      <td>3.0</td>\n",
       "      <td>1.627469</td>\n",
       "      <td>1.300050</td>\n",
       "      <td>1.167375</td>\n",
       "    </tr>\n",
       "    <tr>\n",
       "      <th>4</th>\n",
       "      <td>https://geektimes.ru/post/18294/</td>\n",
       "      <td>geektimes.ru</td>\n",
       "      <td>18294</td>\n",
       "      <td>2008-01-02 14:34:00</td>\n",
       "      <td>@dennydo</td>\n",
       "      <td>NaN</td>\n",
       "      <td>False</td>\n",
       "      <td>3706</td>\n",
       "      <td>Почему мне не нравится iPhone</td>\n",
       "      <td>230</td>\n",
       "      <td>6</td>\n",
       "      <td>1400</td>\n",
       "      <td>73.0</td>\n",
       "      <td>15.0</td>\n",
       "      <td>1.362397</td>\n",
       "      <td>0.961094</td>\n",
       "      <td>2.020356</td>\n",
       "    </tr>\n",
       "  </tbody>\n",
       "</table>\n",
       "</div>"
      ],
      "text/plain": [
       "                                url        domain  post_id  \\\n",
       "0  https://habrahabr.ru/post/18284/  habrahabr.ru    18284   \n",
       "1  https://habrahabr.ru/post/18285/  habrahabr.ru    18285   \n",
       "2  https://habrahabr.ru/post/18286/  habrahabr.ru    18286   \n",
       "3  https://habrahabr.ru/post/18291/  habrahabr.ru    18291   \n",
       "4  https://geektimes.ru/post/18294/  geektimes.ru    18294   \n",
       "\n",
       "             published      author     flow  polling  content_len  \\\n",
       "0  2008-01-01 18:19:00      @Tapac  develop    False         4305   \n",
       "1  2008-01-01 18:30:00  @DezmASter   design    False         7344   \n",
       "2  2008-01-01 18:34:00  @DezmASter   design    False         8431   \n",
       "3  2008-01-02 01:32:00    @Taoorus   design    False         5662   \n",
       "4  2008-01-02 14:34:00    @dennydo      NaN    False         3706   \n",
       "\n",
       "                                               title  comments  favs  views  \\\n",
       "0     Новогодний подарок блоггерам — WordPress 2.3.2         0     0    236   \n",
       "1  Сумасшедшие яйца, или сервис для отслеживания ...         1     1    353   \n",
       "2  Сумасшедшие яйца, или сервис для отслеживания ...        47    72   1200   \n",
       "3     Сглаживание шрифтов, и субпиксельная отрисовка       102    36   5700   \n",
       "4                      Почему мне не нравится iPhone       230     6   1400   \n",
       "\n",
       "   votes_plus  votes_minus  views_lognorm  favs_lognorm  comments_lognorm  \n",
       "0         0.0          0.0      -0.792687     -1.344075         -2.436871  \n",
       "1         1.0          0.0      -0.485214     -0.831946         -1.873193  \n",
       "2        45.0          5.0       0.446090      1.794023          0.574656  \n",
       "3        72.0          3.0       1.627469      1.300050          1.167375  \n",
       "4        73.0         15.0       1.362397      0.961094          2.020356  "
      ]
     },
     "execution_count": 75,
     "metadata": {},
     "output_type": "execute_result"
    }
   ],
   "source": [
    "df = pd.read_csv(r'dataset/howpop_train.csv')\n",
    "df.head()"
   ]
  },
  {
   "cell_type": "markdown",
   "id": "40ec9bdf",
   "metadata": {},
   "source": [
    "Избавимся сразу от переменных, названия которых заканчиваются на _lognorm (нужны для соревнования на Kaggle). Выберем их с помощью filter() и удалим drop-ом:"
   ]
  },
  {
   "cell_type": "code",
   "execution_count": 76,
   "id": "3c80a32a",
   "metadata": {},
   "outputs": [],
   "source": [
    "df.drop(\n",
    "    filter(lambda x: x.endswith('_lognorm'), df.columns),\n",
    "    axis=1,\n",
    "    inplace=True\n",
    ")"
   ]
  },
  {
   "cell_type": "code",
   "execution_count": 77,
   "id": "a1934469",
   "metadata": {},
   "outputs": [
    {
     "data": {
      "text/html": [
       "<div>\n",
       "<style scoped>\n",
       "    .dataframe tbody tr th:only-of-type {\n",
       "        vertical-align: middle;\n",
       "    }\n",
       "\n",
       "    .dataframe tbody tr th {\n",
       "        vertical-align: top;\n",
       "    }\n",
       "\n",
       "    .dataframe thead th {\n",
       "        text-align: right;\n",
       "    }\n",
       "</style>\n",
       "<table border=\"1\" class=\"dataframe\">\n",
       "  <thead>\n",
       "    <tr style=\"text-align: right;\">\n",
       "      <th></th>\n",
       "      <th>count</th>\n",
       "      <th>mean</th>\n",
       "      <th>std</th>\n",
       "      <th>min</th>\n",
       "      <th>25%</th>\n",
       "      <th>50%</th>\n",
       "      <th>75%</th>\n",
       "      <th>max</th>\n",
       "    </tr>\n",
       "  </thead>\n",
       "  <tbody>\n",
       "    <tr>\n",
       "      <th>post_id</th>\n",
       "      <td>134137.0</td>\n",
       "      <td>181307.054265</td>\n",
       "      <td>81766.350702</td>\n",
       "      <td>18284.0</td>\n",
       "      <td>115565.0</td>\n",
       "      <td>182666.0</td>\n",
       "      <td>257401.0</td>\n",
       "      <td>314088.0</td>\n",
       "    </tr>\n",
       "    <tr>\n",
       "      <th>content_len</th>\n",
       "      <td>134137.0</td>\n",
       "      <td>7516.929699</td>\n",
       "      <td>8724.771640</td>\n",
       "      <td>1.0</td>\n",
       "      <td>2179.0</td>\n",
       "      <td>4949.0</td>\n",
       "      <td>9858.0</td>\n",
       "      <td>352471.0</td>\n",
       "    </tr>\n",
       "    <tr>\n",
       "      <th>comments</th>\n",
       "      <td>134137.0</td>\n",
       "      <td>39.625994</td>\n",
       "      <td>62.398958</td>\n",
       "      <td>0.0</td>\n",
       "      <td>7.0</td>\n",
       "      <td>19.0</td>\n",
       "      <td>48.0</td>\n",
       "      <td>2266.0</td>\n",
       "    </tr>\n",
       "    <tr>\n",
       "      <th>favs</th>\n",
       "      <td>134137.0</td>\n",
       "      <td>71.999866</td>\n",
       "      <td>145.854135</td>\n",
       "      <td>0.0</td>\n",
       "      <td>8.0</td>\n",
       "      <td>27.0</td>\n",
       "      <td>78.0</td>\n",
       "      <td>8718.0</td>\n",
       "    </tr>\n",
       "    <tr>\n",
       "      <th>views</th>\n",
       "      <td>134137.0</td>\n",
       "      <td>16631.013084</td>\n",
       "      <td>31479.819691</td>\n",
       "      <td>3.0</td>\n",
       "      <td>2100.0</td>\n",
       "      <td>7600.0</td>\n",
       "      <td>18700.0</td>\n",
       "      <td>1730000.0</td>\n",
       "    </tr>\n",
       "    <tr>\n",
       "      <th>votes_plus</th>\n",
       "      <td>133566.0</td>\n",
       "      <td>35.536888</td>\n",
       "      <td>42.461073</td>\n",
       "      <td>0.0</td>\n",
       "      <td>11.0</td>\n",
       "      <td>22.0</td>\n",
       "      <td>45.0</td>\n",
       "      <td>1466.0</td>\n",
       "    </tr>\n",
       "    <tr>\n",
       "      <th>votes_minus</th>\n",
       "      <td>133566.0</td>\n",
       "      <td>8.050035</td>\n",
       "      <td>11.398282</td>\n",
       "      <td>0.0</td>\n",
       "      <td>2.0</td>\n",
       "      <td>5.0</td>\n",
       "      <td>10.0</td>\n",
       "      <td>445.0</td>\n",
       "    </tr>\n",
       "  </tbody>\n",
       "</table>\n",
       "</div>"
      ],
      "text/plain": [
       "                count           mean           std      min       25%  \\\n",
       "post_id      134137.0  181307.054265  81766.350702  18284.0  115565.0   \n",
       "content_len  134137.0    7516.929699   8724.771640      1.0    2179.0   \n",
       "comments     134137.0      39.625994     62.398958      0.0       7.0   \n",
       "favs         134137.0      71.999866    145.854135      0.0       8.0   \n",
       "views        134137.0   16631.013084  31479.819691      3.0    2100.0   \n",
       "votes_plus   133566.0      35.536888     42.461073      0.0      11.0   \n",
       "votes_minus  133566.0       8.050035     11.398282      0.0       2.0   \n",
       "\n",
       "                  50%       75%        max  \n",
       "post_id      182666.0  257401.0   314088.0  \n",
       "content_len    4949.0    9858.0   352471.0  \n",
       "comments         19.0      48.0     2266.0  \n",
       "favs             27.0      78.0     8718.0  \n",
       "views          7600.0   18700.0  1730000.0  \n",
       "votes_plus       22.0      45.0     1466.0  \n",
       "votes_minus       5.0      10.0      445.0  "
      ]
     },
     "execution_count": 77,
     "metadata": {},
     "output_type": "execute_result"
    }
   ],
   "source": [
    "df.describe().T"
   ]
  },
  {
   "cell_type": "code",
   "execution_count": 78,
   "id": "7cd5b65b",
   "metadata": {},
   "outputs": [
    {
     "name": "stdout",
     "output_type": "stream",
     "text": [
      "<class 'pandas.core.frame.DataFrame'>\n",
      "RangeIndex: 134137 entries, 0 to 134136\n",
      "Data columns (total 14 columns):\n",
      "url            134137 non-null object\n",
      "domain         134137 non-null object\n",
      "post_id        134137 non-null int64\n",
      "published      134137 non-null object\n",
      "author         97657 non-null object\n",
      "flow           97048 non-null object\n",
      "polling        134137 non-null bool\n",
      "content_len    134137 non-null int64\n",
      "title          134137 non-null object\n",
      "comments       134137 non-null int64\n",
      "favs           134137 non-null int64\n",
      "views          134137 non-null int64\n",
      "votes_plus     133566 non-null float64\n",
      "votes_minus    133566 non-null float64\n",
      "dtypes: bool(1), float64(2), int64(5), object(6)\n",
      "memory usage: 13.4+ MB\n"
     ]
    }
   ],
   "source": [
    "df.info()"
   ]
  },
  {
   "cell_type": "code",
   "execution_count": 79,
   "id": "d7d2546a",
   "metadata": {},
   "outputs": [
    {
     "data": {
      "text/html": [
       "<div>\n",
       "<style scoped>\n",
       "    .dataframe tbody tr th:only-of-type {\n",
       "        vertical-align: middle;\n",
       "    }\n",
       "\n",
       "    .dataframe tbody tr th {\n",
       "        vertical-align: top;\n",
       "    }\n",
       "\n",
       "    .dataframe thead th {\n",
       "        text-align: right;\n",
       "    }\n",
       "</style>\n",
       "<table border=\"1\" class=\"dataframe\">\n",
       "  <thead>\n",
       "    <tr style=\"text-align: right;\">\n",
       "      <th></th>\n",
       "      <th>count</th>\n",
       "      <th>unique</th>\n",
       "      <th>top</th>\n",
       "      <th>freq</th>\n",
       "    </tr>\n",
       "  </thead>\n",
       "  <tbody>\n",
       "    <tr>\n",
       "      <th>url</th>\n",
       "      <td>134137</td>\n",
       "      <td>134137</td>\n",
       "      <td>https://geektimes.ru/post/274282/</td>\n",
       "      <td>1</td>\n",
       "    </tr>\n",
       "    <tr>\n",
       "      <th>domain</th>\n",
       "      <td>134137</td>\n",
       "      <td>2</td>\n",
       "      <td>habrahabr.ru</td>\n",
       "      <td>97048</td>\n",
       "    </tr>\n",
       "    <tr>\n",
       "      <th>published</th>\n",
       "      <td>134137</td>\n",
       "      <td>130291</td>\n",
       "      <td>2011-06-14 15:52:00</td>\n",
       "      <td>39</td>\n",
       "    </tr>\n",
       "    <tr>\n",
       "      <th>author</th>\n",
       "      <td>97657</td>\n",
       "      <td>22077</td>\n",
       "      <td>@alizar</td>\n",
       "      <td>5292</td>\n",
       "    </tr>\n",
       "    <tr>\n",
       "      <th>flow</th>\n",
       "      <td>97048</td>\n",
       "      <td>6</td>\n",
       "      <td>develop</td>\n",
       "      <td>53318</td>\n",
       "    </tr>\n",
       "    <tr>\n",
       "      <th>polling</th>\n",
       "      <td>134137</td>\n",
       "      <td>2</td>\n",
       "      <td>False</td>\n",
       "      <td>129412</td>\n",
       "    </tr>\n",
       "    <tr>\n",
       "      <th>title</th>\n",
       "      <td>134137</td>\n",
       "      <td>133628</td>\n",
       "      <td>Интересные события, произошедшие в выходные</td>\n",
       "      <td>56</td>\n",
       "    </tr>\n",
       "  </tbody>\n",
       "</table>\n",
       "</div>"
      ],
      "text/plain": [
       "            count  unique                                          top    freq\n",
       "url        134137  134137            https://geektimes.ru/post/274282/       1\n",
       "domain     134137       2                                 habrahabr.ru   97048\n",
       "published  134137  130291                          2011-06-14 15:52:00      39\n",
       "author      97657   22077                                      @alizar    5292\n",
       "flow        97048       6                                      develop   53318\n",
       "polling    134137       2                                        False  129412\n",
       "title      134137  133628  Интересные события, произошедшие в выходные      56"
      ]
     },
     "execution_count": 79,
     "metadata": {},
     "output_type": "execute_result"
    }
   ],
   "source": [
    "df.describe(include=[\"object\", \"bool\"]).T # бинарные и категориальные"
   ]
  },
  {
   "cell_type": "code",
   "execution_count": 80,
   "id": "39b1be10",
   "metadata": {},
   "outputs": [],
   "source": [
    "# настройка внешнего вида графиков в seaborn\n",
    "sns.set_style(\"dark\")\n",
    "sns.set_palette(\"RdBu\")\n",
    "sns.set_context(\n",
    "    \"notebook\", font_scale=1.5, rc={\"figure.figsize\": (15, 5), \"axes.titlesize\": 18}\n",
    ")"
   ]
  },
  {
   "cell_type": "markdown",
   "id": "d68830f6",
   "metadata": {},
   "source": [
    "Столбец published (время публикации) содержит строки. Чтобы мы могли работать с этими данными как с датой/временем публикации, приведём их к типу datetime:"
   ]
  },
  {
   "cell_type": "code",
   "execution_count": 81,
   "id": "d6b3529c",
   "metadata": {},
   "outputs": [
    {
     "name": "stdout",
     "output_type": "stream",
     "text": [
      "datetime64[ns]\n"
     ]
    }
   ],
   "source": [
    "df['published'] = pd.to_datetime(df['published'], yearfirst=True)\n",
    "print(df.published.dtype)"
   ]
  },
  {
   "cell_type": "markdown",
   "id": "b6b69cce",
   "metadata": {},
   "source": [
    "Создадим несколько столбцов на основе данных о времени публикации:"
   ]
  },
  {
   "cell_type": "code",
   "execution_count": 82,
   "id": "1e7294e6",
   "metadata": {},
   "outputs": [
    {
     "data": {
      "text/html": [
       "<div>\n",
       "<style scoped>\n",
       "    .dataframe tbody tr th:only-of-type {\n",
       "        vertical-align: middle;\n",
       "    }\n",
       "\n",
       "    .dataframe tbody tr th {\n",
       "        vertical-align: top;\n",
       "    }\n",
       "\n",
       "    .dataframe thead th {\n",
       "        text-align: right;\n",
       "    }\n",
       "</style>\n",
       "<table border=\"1\" class=\"dataframe\">\n",
       "  <thead>\n",
       "    <tr style=\"text-align: right;\">\n",
       "      <th></th>\n",
       "      <th>url</th>\n",
       "      <th>domain</th>\n",
       "      <th>post_id</th>\n",
       "      <th>published</th>\n",
       "      <th>author</th>\n",
       "      <th>flow</th>\n",
       "      <th>polling</th>\n",
       "      <th>content_len</th>\n",
       "      <th>title</th>\n",
       "      <th>comments</th>\n",
       "      <th>favs</th>\n",
       "      <th>views</th>\n",
       "      <th>votes_plus</th>\n",
       "      <th>votes_minus</th>\n",
       "      <th>year</th>\n",
       "      <th>month</th>\n",
       "      <th>day</th>\n",
       "      <th>dayofweek</th>\n",
       "    </tr>\n",
       "  </thead>\n",
       "  <tbody>\n",
       "    <tr>\n",
       "      <th>0</th>\n",
       "      <td>https://habrahabr.ru/post/18284/</td>\n",
       "      <td>habrahabr.ru</td>\n",
       "      <td>18284</td>\n",
       "      <td>2008-01-01 18:19:00</td>\n",
       "      <td>@Tapac</td>\n",
       "      <td>develop</td>\n",
       "      <td>False</td>\n",
       "      <td>4305</td>\n",
       "      <td>Новогодний подарок блоггерам — WordPress 2.3.2</td>\n",
       "      <td>0</td>\n",
       "      <td>0</td>\n",
       "      <td>236</td>\n",
       "      <td>0.0</td>\n",
       "      <td>0.0</td>\n",
       "      <td>2008</td>\n",
       "      <td>1</td>\n",
       "      <td>1</td>\n",
       "      <td>2</td>\n",
       "    </tr>\n",
       "    <tr>\n",
       "      <th>1</th>\n",
       "      <td>https://habrahabr.ru/post/18285/</td>\n",
       "      <td>habrahabr.ru</td>\n",
       "      <td>18285</td>\n",
       "      <td>2008-01-01 18:30:00</td>\n",
       "      <td>@DezmASter</td>\n",
       "      <td>design</td>\n",
       "      <td>False</td>\n",
       "      <td>7344</td>\n",
       "      <td>Сумасшедшие яйца, или сервис для отслеживания ...</td>\n",
       "      <td>1</td>\n",
       "      <td>1</td>\n",
       "      <td>353</td>\n",
       "      <td>1.0</td>\n",
       "      <td>0.0</td>\n",
       "      <td>2008</td>\n",
       "      <td>1</td>\n",
       "      <td>1</td>\n",
       "      <td>2</td>\n",
       "    </tr>\n",
       "    <tr>\n",
       "      <th>2</th>\n",
       "      <td>https://habrahabr.ru/post/18286/</td>\n",
       "      <td>habrahabr.ru</td>\n",
       "      <td>18286</td>\n",
       "      <td>2008-01-01 18:34:00</td>\n",
       "      <td>@DezmASter</td>\n",
       "      <td>design</td>\n",
       "      <td>False</td>\n",
       "      <td>8431</td>\n",
       "      <td>Сумасшедшие яйца, или сервис для отслеживания ...</td>\n",
       "      <td>47</td>\n",
       "      <td>72</td>\n",
       "      <td>1200</td>\n",
       "      <td>45.0</td>\n",
       "      <td>5.0</td>\n",
       "      <td>2008</td>\n",
       "      <td>1</td>\n",
       "      <td>1</td>\n",
       "      <td>2</td>\n",
       "    </tr>\n",
       "    <tr>\n",
       "      <th>3</th>\n",
       "      <td>https://habrahabr.ru/post/18291/</td>\n",
       "      <td>habrahabr.ru</td>\n",
       "      <td>18291</td>\n",
       "      <td>2008-01-02 01:32:00</td>\n",
       "      <td>@Taoorus</td>\n",
       "      <td>design</td>\n",
       "      <td>False</td>\n",
       "      <td>5662</td>\n",
       "      <td>Сглаживание шрифтов, и субпиксельная отрисовка</td>\n",
       "      <td>102</td>\n",
       "      <td>36</td>\n",
       "      <td>5700</td>\n",
       "      <td>72.0</td>\n",
       "      <td>3.0</td>\n",
       "      <td>2008</td>\n",
       "      <td>1</td>\n",
       "      <td>2</td>\n",
       "      <td>3</td>\n",
       "    </tr>\n",
       "    <tr>\n",
       "      <th>4</th>\n",
       "      <td>https://geektimes.ru/post/18294/</td>\n",
       "      <td>geektimes.ru</td>\n",
       "      <td>18294</td>\n",
       "      <td>2008-01-02 14:34:00</td>\n",
       "      <td>@dennydo</td>\n",
       "      <td>NaN</td>\n",
       "      <td>False</td>\n",
       "      <td>3706</td>\n",
       "      <td>Почему мне не нравится iPhone</td>\n",
       "      <td>230</td>\n",
       "      <td>6</td>\n",
       "      <td>1400</td>\n",
       "      <td>73.0</td>\n",
       "      <td>15.0</td>\n",
       "      <td>2008</td>\n",
       "      <td>1</td>\n",
       "      <td>2</td>\n",
       "      <td>3</td>\n",
       "    </tr>\n",
       "  </tbody>\n",
       "</table>\n",
       "</div>"
      ],
      "text/plain": [
       "                                url        domain  post_id  \\\n",
       "0  https://habrahabr.ru/post/18284/  habrahabr.ru    18284   \n",
       "1  https://habrahabr.ru/post/18285/  habrahabr.ru    18285   \n",
       "2  https://habrahabr.ru/post/18286/  habrahabr.ru    18286   \n",
       "3  https://habrahabr.ru/post/18291/  habrahabr.ru    18291   \n",
       "4  https://geektimes.ru/post/18294/  geektimes.ru    18294   \n",
       "\n",
       "            published      author     flow  polling  content_len  \\\n",
       "0 2008-01-01 18:19:00      @Tapac  develop    False         4305   \n",
       "1 2008-01-01 18:30:00  @DezmASter   design    False         7344   \n",
       "2 2008-01-01 18:34:00  @DezmASter   design    False         8431   \n",
       "3 2008-01-02 01:32:00    @Taoorus   design    False         5662   \n",
       "4 2008-01-02 14:34:00    @dennydo      NaN    False         3706   \n",
       "\n",
       "                                               title  comments  favs  views  \\\n",
       "0     Новогодний подарок блоггерам — WordPress 2.3.2         0     0    236   \n",
       "1  Сумасшедшие яйца, или сервис для отслеживания ...         1     1    353   \n",
       "2  Сумасшедшие яйца, или сервис для отслеживания ...        47    72   1200   \n",
       "3     Сглаживание шрифтов, и субпиксельная отрисовка       102    36   5700   \n",
       "4                      Почему мне не нравится iPhone       230     6   1400   \n",
       "\n",
       "   votes_plus  votes_minus  year  month  day  dayofweek  \n",
       "0         0.0          0.0  2008      1    1          2  \n",
       "1         1.0          0.0  2008      1    1          2  \n",
       "2        45.0          5.0  2008      1    1          2  \n",
       "3        72.0          3.0  2008      1    2          3  \n",
       "4        73.0         15.0  2008      1    2          3  "
      ]
     },
     "execution_count": 82,
     "metadata": {},
     "output_type": "execute_result"
    }
   ],
   "source": [
    "df['year'] = [d.year for d in df['published']]\n",
    "df['month'] = [d.month for d in df['published']]\n",
    "df['day'] = [d.day for d in df['published']]\n",
    "df['dayofweek'] = [d.isoweekday() for d in df['published']]\n",
    "df.head()"
   ]
  },
  {
   "cell_type": "markdown",
   "id": "28fdbf76",
   "metadata": {},
   "source": [
    "## 1. В каком месяце (и какого года) было больше всего публикаций?"
   ]
  },
  {
   "cell_type": "code",
   "execution_count": 83,
   "id": "39518b2f",
   "metadata": {},
   "outputs": [
    {
     "data": {
      "text/plain": [
       "<matplotlib.axes._subplots.AxesSubplot at 0x18fa6ad6288>"
      ]
     },
     "execution_count": 83,
     "metadata": {},
     "output_type": "execute_result"
    },
    {
     "data": {
      "image/png": "[encoded data removed]",
      "text/plain": [
       "<Figure size 432x288 with 1 Axes>"
      ]
     },
     "metadata": {},
     "output_type": "display_data"
    }
   ],
   "source": [
    "df.groupby(['year', 'month']).count()['post_id'].plot()"
   ]
  },
  {
   "cell_type": "code",
   "execution_count": 84,
   "id": "37d70fa5",
   "metadata": {},
   "outputs": [
    {
     "data": {
      "text/plain": [
       "(2015, 3)"
      ]
     },
     "execution_count": 84,
     "metadata": {},
     "output_type": "execute_result"
    }
   ],
   "source": [
    "df.groupby(['year', 'month']).count()['post_id'].idxmax()"
   ]
  },
  {
   "cell_type": "markdown",
   "id": "a92b18e2",
   "metadata": {},
   "source": [
    "## 2. Выберите один или несколько вариантов:\n",
    "\n",
    "Один или несколько дней сильно выделяются из общей картины\n",
    "\n",
    "На хабре всегда больше статей, чем на гиктаймсе\n",
    "\n",
    "По субботам на гиктаймс и на хабрахабр публикуют примерно одинаковое число статей\n",
    "\n",
    "Подсказки: постройте график зависимости числа публикаций от дня; используйте параметр hue; не заморачивайтесь сильно с ответами и не ищите скрытого смысла :)"
   ]
  },
  {
   "cell_type": "code",
   "execution_count": 85,
   "id": "21cf3084",
   "metadata": {},
   "outputs": [
    {
     "data": {
      "text/plain": [
       "<matplotlib.axes._subplots.AxesSubplot at 0x18fa0c55488>"
      ]
     },
     "execution_count": 85,
     "metadata": {},
     "output_type": "execute_result"
    },
    {
     "data": {
      "image/png": "[encoded data removed]",
      "text/plain": [
       "<Figure size 432x288 with 1 Axes>"
      ]
     },
     "metadata": {},
     "output_type": "display_data"
    }
   ],
   "source": [
    "sns.boxplot(data=df.groupby(['year', 'month', 'day']).count()['post_id'])"
   ]
  },
  {
   "cell_type": "code",
   "execution_count": 86,
   "id": "dffe5e6d",
   "metadata": {},
   "outputs": [
    {
     "data": {
      "text/plain": [
       "<matplotlib.axes._subplots.AxesSubplot at 0x18fa0cb0148>"
      ]
     },
     "execution_count": 86,
     "metadata": {},
     "output_type": "execute_result"
    },
    {
     "data": {
      "image/png": "[encoded data removed]",
      "text/plain": [
       "<Figure size 432x288 with 1 Axes>"
      ]
     },
     "metadata": {},
     "output_type": "display_data"
    }
   ],
   "source": [
    "df['source'] = ['habrahabr' if 'habrahabr' in d else 'geektimes' for d in df['url'] ]\n",
    "df_temp = df[['year', 'source']]\n",
    "df_temp.groupby('year')['source'].value_counts().unstack(fill_value=0).plot(kind='bar')"
   ]
  },
  {
   "cell_type": "code",
   "execution_count": 87,
   "id": "134f80e1",
   "metadata": {},
   "outputs": [
    {
     "data": {
      "text/plain": [
       "<matplotlib.axes._subplots.AxesSubplot at 0x18fa0f13488>"
      ]
     },
     "execution_count": 87,
     "metadata": {},
     "output_type": "execute_result"
    },
    {
     "data": {
      "image/png": "[encoded data removed]",
      "text/plain": [
       "<Figure size 432x288 with 1 Axes>"
      ]
     },
     "metadata": {},
     "output_type": "display_data"
    }
   ],
   "source": [
    "df_temp = df[['year', 'dayofweek', 'source']]\n",
    "df_temp = df_temp[df_temp['dayofweek'] == 6]\n",
    "df_temp.groupby('year')['source'].value_counts().unstack(fill_value=0).plot(kind='bar')"
   ]
  },
  {
   "cell_type": "markdown",
   "id": "f15870b1",
   "metadata": {},
   "source": [
    "## 3. Когда лучше всего публиковать статью?\n",
    "Больше всего просмотров набирают статьи, опубликованные в 12 часов дня\n",
    "\n",
    "У опубликованных в 10 утра постов больше всего комментариев\n",
    "\n",
    "Больше всего просмотров набирают статьи, опубликованные в 6 часов утра\n",
    "\n",
    "Максимальное число комментариев на гиктаймсе набрала статья, опубликованная в 9 часов вечера\n",
    "\n",
    "На хабре дневные статьи комментируют чаще, чем вечерние"
   ]
  },
  {
   "cell_type": "code",
   "execution_count": 90,
   "id": "82ffa837",
   "metadata": {},
   "outputs": [
    {
     "data": {
      "text/plain": [
       "<matplotlib.axes._subplots.AxesSubplot at 0x18fa0d63848>"
      ]
     },
     "execution_count": 90,
     "metadata": {},
     "output_type": "execute_result"
    },
    {
     "data": {
      "image/png": "[encoded data removed]",
      "text/plain": [
       "<Figure size 432x288 with 1 Axes>"
      ]
     },
     "metadata": {},
     "output_type": "display_data"
    }
   ],
   "source": [
    "df['hour'] = [d.hour for d in df['published']]\n",
    "sns.scatterplot(data = df, x='hour', y='views')"
   ]
  },
  {
   "cell_type": "code",
   "execution_count": 91,
   "id": "0133ab34",
   "metadata": {},
   "outputs": [
    {
     "data": {
      "text/plain": [
       "<matplotlib.axes._subplots.AxesSubplot at 0x18fa0db0e48>"
      ]
     },
     "execution_count": 91,
     "metadata": {},
     "output_type": "execute_result"
    },
    {
     "data": {
      "image/png": "[encoded data removed]",
      "text/plain": [
       "<Figure size 432x288 with 1 Axes>"
      ]
     },
     "metadata": {},
     "output_type": "display_data"
    }
   ],
   "source": [
    "sns.scatterplot(data = df, x='hour', y='comments')"
   ]
  },
  {
   "cell_type": "code",
   "execution_count": null,
   "id": "e999f85f",
   "metadata": {},
   "outputs": [],
   "source": []
  }
 ],
 "metadata": {
  "kernelspec": {
   "display_name": "Python 3 (ipykernel)",
   "language": "python",
   "name": "python3"
  },
  "language_info": {
   "codemirror_mode": {
    "name": "ipython",
    "version": 3
   },
   "file_extension": ".py",
   "mimetype": "text/x-python",
   "name": "python",
   "nbconvert_exporter": "python",
   "pygments_lexer": "ipython3",
   "version": "3.7.5"
  }
 },
 "nbformat": 4,
 "nbformat_minor": 5
}
