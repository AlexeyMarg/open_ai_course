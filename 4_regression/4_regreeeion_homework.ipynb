{
 "cells": [
  {
   "cell_type": "markdown",
   "id": "d0e4a956",
   "metadata": {},
   "source": [
    "Описание соревнования\n",
    "\n",
    "Предскажите, как много звездочек наберет статья, зная только ее текст и время публикации\n",
    "\n",
    "Необходимо предсказать популярность поста на Хабре по содержанию и времени публикации. Как известно, пользователи Хабра могут добавлять статьи к себе в избранное. Общее количество пользователей, которое это сделали отображается у статьи количеством звездочек. Будем считать, что число звездочек, поставленных статье, наиболее хорошо отражает ее популярность.\n",
    "\n",
    "Более формально, в качестве метрики популярности статьи будем использовать долю статей за последний месяц, у которых количество звездочек меньше чем у текущей статьи. А точнее, доле числа звездочек можно поставить в соответствие квантили стандартного распределения, таким образом получаем числовую характеристику популярности статьи. Популярность статьи 0 означает, что статья получила ровно столько звездочек, сколько в среднем получают статьи. И соответственно чем больше звездочек получила статья по сравнению со средним, тем выше это число.\n",
    "\n",
    "Приступим: импортируем необходимые библиотеки и скачаем данные\n",
    "https://drive.google.com/file/d/1nV2qV9otN3LnVSDqy95hvpJdb6aWtATk/view?usp=sharing"
   ]
  },
  {
   "cell_type": "code",
   "execution_count": 1,
   "id": "7ea76f17",
   "metadata": {},
   "outputs": [],
   "source": [
    "import numpy as np\n",
    "import pandas as pd\n",
    "\n",
    "from sklearn.feature_extraction import DictVectorizer\n",
    "from sklearn.feature_extraction.text import TfidfVectorizer\n",
    "from sklearn.linear_model import Ridge\n",
    "from sklearn.metrics import mean_squared_error\n",
    "from sklearn.model_selection import train_test_split\n",
    "\n",
    "from matplotlib import pyplot as plt"
   ]
  },
  {
   "cell_type": "code",
   "execution_count": 2,
   "id": "0efbd971",
   "metadata": {},
   "outputs": [
    {
     "data": {
      "text/html": [
       "<div>\n",
       "<style scoped>\n",
       "    .dataframe tbody tr th:only-of-type {\n",
       "        vertical-align: middle;\n",
       "    }\n",
       "\n",
       "    .dataframe tbody tr th {\n",
       "        vertical-align: top;\n",
       "    }\n",
       "\n",
       "    .dataframe thead th {\n",
       "        text-align: right;\n",
       "    }\n",
       "</style>\n",
       "<table border=\"1\" class=\"dataframe\">\n",
       "  <thead>\n",
       "    <tr style=\"text-align: right;\">\n",
       "      <th></th>\n",
       "      <th>0</th>\n",
       "    </tr>\n",
       "  </thead>\n",
       "  <tbody>\n",
       "    <tr>\n",
       "      <th>url</th>\n",
       "      <td>https://habrahabr.ru/post/18284/</td>\n",
       "    </tr>\n",
       "    <tr>\n",
       "      <th>domain</th>\n",
       "      <td>habrahabr.ru</td>\n",
       "    </tr>\n",
       "    <tr>\n",
       "      <th>post_id</th>\n",
       "      <td>18284</td>\n",
       "    </tr>\n",
       "    <tr>\n",
       "      <th>published</th>\n",
       "      <td>2008-01-01 18:19:00</td>\n",
       "    </tr>\n",
       "    <tr>\n",
       "      <th>author</th>\n",
       "      <td>@Tapac</td>\n",
       "    </tr>\n",
       "    <tr>\n",
       "      <th>flow</th>\n",
       "      <td>develop</td>\n",
       "    </tr>\n",
       "    <tr>\n",
       "      <th>polling</th>\n",
       "      <td>False</td>\n",
       "    </tr>\n",
       "    <tr>\n",
       "      <th>content_len</th>\n",
       "      <td>4305</td>\n",
       "    </tr>\n",
       "    <tr>\n",
       "      <th>title</th>\n",
       "      <td>Новогодний подарок блоггерам — WordPress 2.3.2</td>\n",
       "    </tr>\n",
       "    <tr>\n",
       "      <th>comments</th>\n",
       "      <td>0</td>\n",
       "    </tr>\n",
       "    <tr>\n",
       "      <th>favs</th>\n",
       "      <td>0</td>\n",
       "    </tr>\n",
       "    <tr>\n",
       "      <th>views</th>\n",
       "      <td>236</td>\n",
       "    </tr>\n",
       "    <tr>\n",
       "      <th>votes_plus</th>\n",
       "      <td>0.0</td>\n",
       "    </tr>\n",
       "    <tr>\n",
       "      <th>votes_minus</th>\n",
       "      <td>0.0</td>\n",
       "    </tr>\n",
       "    <tr>\n",
       "      <th>views_lognorm</th>\n",
       "      <td>-0.792687</td>\n",
       "    </tr>\n",
       "    <tr>\n",
       "      <th>favs_lognorm</th>\n",
       "      <td>-1.344075</td>\n",
       "    </tr>\n",
       "    <tr>\n",
       "      <th>comments_lognorm</th>\n",
       "      <td>-2.436871</td>\n",
       "    </tr>\n",
       "  </tbody>\n",
       "</table>\n",
       "</div>"
      ],
      "text/plain": [
       "                                                               0\n",
       "url                             https://habrahabr.ru/post/18284/\n",
       "domain                                              habrahabr.ru\n",
       "post_id                                                    18284\n",
       "published                                    2008-01-01 18:19:00\n",
       "author                                                    @Tapac\n",
       "flow                                                     develop\n",
       "polling                                                    False\n",
       "content_len                                                 4305\n",
       "title             Новогодний подарок блоггерам — WordPress 2.3.2\n",
       "comments                                                       0\n",
       "favs                                                           0\n",
       "views                                                        236\n",
       "votes_plus                                                   0.0\n",
       "votes_minus                                                  0.0\n",
       "views_lognorm                                          -0.792687\n",
       "favs_lognorm                                           -1.344075\n",
       "comments_lognorm                                       -2.436871"
      ]
     },
     "execution_count": 2,
     "metadata": {},
     "output_type": "execute_result"
    }
   ],
   "source": [
    "train_df = pd.read_csv('howpop_train.csv')\n",
    "test_df = pd.read_csv('howpop_test.csv')\n",
    "\n",
    "train_df.head(1).T"
   ]
  },
  {
   "cell_type": "code",
   "execution_count": 3,
   "id": "18b35b24",
   "metadata": {},
   "outputs": [
    {
     "data": {
      "text/plain": [
       "((134137, 17), (3990, 9))"
      ]
     },
     "execution_count": 3,
     "metadata": {},
     "output_type": "execute_result"
    }
   ],
   "source": [
    "train_df.shape, test_df.shape"
   ]
  },
  {
   "cell_type": "markdown",
   "id": "67c03fcf",
   "metadata": {},
   "source": [
    "Убедимся, что данные отсортированы по признаку published"
   ]
  },
  {
   "cell_type": "code",
   "execution_count": 4,
   "id": "4ef0fec4",
   "metadata": {},
   "outputs": [
    {
     "data": {
      "text/plain": [
       "<AxesSubplot:>"
      ]
     },
     "execution_count": 4,
     "metadata": {},
     "output_type": "execute_result"
    },
    {
     "data": {
      "image/png": "[encoded data removed]",
      "text/plain": [
       "<Figure size 432x288 with 1 Axes>"
      ]
     },
     "metadata": {
      "needs_background": "light"
     },
     "output_type": "display_data"
    }
   ],
   "source": [
    "train_df['published'].apply(lambda ts: pd.to_datetime(ts).value).plot()"
   ]
  },
  {
   "cell_type": "markdown",
   "id": "fd301286",
   "metadata": {},
   "source": [
    " Есть ли в train_df признаки, корреляция между которыми больше 0.9? Обратите внимание, именно различные признаки - корреляция признака с самим собой естественно больше 0.9 :)"
   ]
  },
  {
   "cell_type": "code",
   "execution_count": 5,
   "id": "e728bb2d",
   "metadata": {},
   "outputs": [
    {
     "data": {
      "text/html": [
       "<style  type=\"text/css\" >\n",
       "#T_91307_row0_col0,#T_91307_row1_col1,#T_91307_row2_col2,#T_91307_row3_col3,#T_91307_row4_col4,#T_91307_row5_col5,#T_91307_row6_col6,#T_91307_row7_col7,#T_91307_row8_col8,#T_91307_row9_col9,#T_91307_row10_col10{\n",
       "            background-color:  #b40426;\n",
       "            color:  #f1f1f1;\n",
       "        }#T_91307_row0_col1{\n",
       "            background-color:  #5e7de7;\n",
       "            color:  #000000;\n",
       "        }#T_91307_row0_col2,#T_91307_row5_col7{\n",
       "            background-color:  #9dbdff;\n",
       "            color:  #000000;\n",
       "        }#T_91307_row0_col3,#T_91307_row0_col6,#T_91307_row0_col7,#T_91307_row0_col8,#T_91307_row0_col10,#T_91307_row1_col4,#T_91307_row1_col5,#T_91307_row1_col9,#T_91307_row6_col1,#T_91307_row7_col0,#T_91307_row7_col2,#T_91307_row9_col1{\n",
       "            background-color:  #3b4cc0;\n",
       "            color:  #f1f1f1;\n",
       "        }#T_91307_row0_col4{\n",
       "            background-color:  #5470de;\n",
       "            color:  #000000;\n",
       "        }#T_91307_row0_col5{\n",
       "            background-color:  #5d7ce6;\n",
       "            color:  #000000;\n",
       "        }#T_91307_row0_col9{\n",
       "            background-color:  #4358cb;\n",
       "            color:  #f1f1f1;\n",
       "        }#T_91307_row1_col0{\n",
       "            background-color:  #8fb1fe;\n",
       "            color:  #000000;\n",
       "        }#T_91307_row1_col2{\n",
       "            background-color:  #4f69d9;\n",
       "            color:  #000000;\n",
       "        }#T_91307_row1_col3{\n",
       "            background-color:  #6f92f3;\n",
       "            color:  #000000;\n",
       "        }#T_91307_row1_col6{\n",
       "            background-color:  #6384eb;\n",
       "            color:  #000000;\n",
       "        }#T_91307_row1_col7{\n",
       "            background-color:  #80a3fa;\n",
       "            color:  #000000;\n",
       "        }#T_91307_row1_col8{\n",
       "            background-color:  #3c4ec2;\n",
       "            color:  #f1f1f1;\n",
       "        }#T_91307_row1_col10,#T_91307_row3_col0{\n",
       "            background-color:  #506bda;\n",
       "            color:  #000000;\n",
       "        }#T_91307_row2_col0{\n",
       "            background-color:  #bbd1f8;\n",
       "            color:  #000000;\n",
       "        }#T_91307_row2_col1,#T_91307_row8_col1{\n",
       "            background-color:  #445acc;\n",
       "            color:  #f1f1f1;\n",
       "        }#T_91307_row2_col3,#T_91307_row7_col5{\n",
       "            background-color:  #5b7ae5;\n",
       "            color:  #000000;\n",
       "        }#T_91307_row2_col4,#T_91307_row3_col9,#T_91307_row8_col2{\n",
       "            background-color:  #9fbfff;\n",
       "            color:  #000000;\n",
       "        }#T_91307_row2_col5,#T_91307_row8_col0{\n",
       "            background-color:  #7597f6;\n",
       "            color:  #000000;\n",
       "        }#T_91307_row2_col6{\n",
       "            background-color:  #81a4fb;\n",
       "            color:  #000000;\n",
       "        }#T_91307_row2_col7{\n",
       "            background-color:  #6282ea;\n",
       "            color:  #000000;\n",
       "        }#T_91307_row2_col8{\n",
       "            background-color:  #8db0fe;\n",
       "            color:  #000000;\n",
       "        }#T_91307_row2_col9,#T_91307_row5_col3,#T_91307_row6_col5{\n",
       "            background-color:  #bad0f8;\n",
       "            color:  #000000;\n",
       "        }#T_91307_row2_col10,#T_91307_row3_col1{\n",
       "            background-color:  #516ddb;\n",
       "            color:  #000000;\n",
       "        }#T_91307_row3_col2{\n",
       "            background-color:  #4a63d3;\n",
       "            color:  #f1f1f1;\n",
       "        }#T_91307_row3_col4{\n",
       "            background-color:  #6c8ff1;\n",
       "            color:  #000000;\n",
       "        }#T_91307_row3_col5,#T_91307_row4_col3{\n",
       "            background-color:  #94b6ff;\n",
       "            color:  #000000;\n",
       "        }#T_91307_row3_col6{\n",
       "            background-color:  #f7b599;\n",
       "            color:  #000000;\n",
       "        }#T_91307_row3_col7{\n",
       "            background-color:  #ebd3c6;\n",
       "            color:  #000000;\n",
       "        }#T_91307_row3_col8,#T_91307_row4_col2,#T_91307_row7_col10{\n",
       "            background-color:  #b2ccfb;\n",
       "            color:  #000000;\n",
       "        }#T_91307_row3_col10,#T_91307_row6_col3{\n",
       "            background-color:  #f7b99e;\n",
       "            color:  #000000;\n",
       "        }#T_91307_row4_col0,#T_91307_row4_col10,#T_91307_row5_col2,#T_91307_row9_col7{\n",
       "            background-color:  #92b4fe;\n",
       "            color:  #000000;\n",
       "        }#T_91307_row4_col1{\n",
       "            background-color:  #465ecf;\n",
       "            color:  #f1f1f1;\n",
       "        }#T_91307_row4_col5{\n",
       "            background-color:  #f4c5ad;\n",
       "            color:  #000000;\n",
       "        }#T_91307_row4_col6{\n",
       "            background-color:  #dfdbd9;\n",
       "            color:  #000000;\n",
       "        }#T_91307_row4_col7{\n",
       "            background-color:  #89acfd;\n",
       "            color:  #000000;\n",
       "        }#T_91307_row4_col8{\n",
       "            background-color:  #d3dbe7;\n",
       "            color:  #000000;\n",
       "        }#T_91307_row4_col9{\n",
       "            background-color:  #f2cab5;\n",
       "            color:  #000000;\n",
       "        }#T_91307_row5_col0{\n",
       "            background-color:  #9ebeff;\n",
       "            color:  #000000;\n",
       "        }#T_91307_row5_col1,#T_91307_row7_col1{\n",
       "            background-color:  #4c66d6;\n",
       "            color:  #000000;\n",
       "        }#T_91307_row5_col4{\n",
       "            background-color:  #f5c2aa;\n",
       "            color:  #000000;\n",
       "        }#T_91307_row5_col6{\n",
       "            background-color:  #dbdcde;\n",
       "            color:  #000000;\n",
       "        }#T_91307_row5_col8{\n",
       "            background-color:  #f0cdbb;\n",
       "            color:  #000000;\n",
       "        }#T_91307_row5_col9{\n",
       "            background-color:  #c9d7f0;\n",
       "            color:  #000000;\n",
       "        }#T_91307_row5_col10{\n",
       "            background-color:  #a7c5fe;\n",
       "            color:  #000000;\n",
       "        }#T_91307_row6_col0{\n",
       "            background-color:  #455cce;\n",
       "            color:  #f1f1f1;\n",
       "        }#T_91307_row6_col2{\n",
       "            background-color:  #6485ec;\n",
       "            color:  #000000;\n",
       "        }#T_91307_row6_col4{\n",
       "            background-color:  #c4d5f3;\n",
       "            color:  #000000;\n",
       "        }#T_91307_row6_col7{\n",
       "            background-color:  #ecd3c5;\n",
       "            color:  #000000;\n",
       "        }#T_91307_row6_col8{\n",
       "            background-color:  #c6d6f1;\n",
       "            color:  #000000;\n",
       "        }#T_91307_row6_col9{\n",
       "            background-color:  #d5dbe5;\n",
       "            color:  #000000;\n",
       "        }#T_91307_row6_col10{\n",
       "            background-color:  #e3d9d3;\n",
       "            color:  #000000;\n",
       "        }#T_91307_row7_col3{\n",
       "            background-color:  #e4d9d2;\n",
       "            color:  #000000;\n",
       "        }#T_91307_row7_col4{\n",
       "            background-color:  #4b64d5;\n",
       "            color:  #f1f1f1;\n",
       "        }#T_91307_row7_col6,#T_91307_row8_col10{\n",
       "            background-color:  #e9d5cb;\n",
       "            color:  #000000;\n",
       "        }#T_91307_row7_col8{\n",
       "            background-color:  #6b8df0;\n",
       "            color:  #000000;\n",
       "        }#T_91307_row7_col9{\n",
       "            background-color:  #5f7fe8;\n",
       "            color:  #000000;\n",
       "        }#T_91307_row8_col3{\n",
       "            background-color:  #cad8ef;\n",
       "            color:  #000000;\n",
       "        }#T_91307_row8_col4{\n",
       "            background-color:  #cfdaea;\n",
       "            color:  #000000;\n",
       "        }#T_91307_row8_col5{\n",
       "            background-color:  #edd1c2;\n",
       "            color:  #000000;\n",
       "        }#T_91307_row8_col6{\n",
       "            background-color:  #dedcdb;\n",
       "            color:  #000000;\n",
       "        }#T_91307_row8_col7,#T_91307_row10_col5{\n",
       "            background-color:  #a2c1ff;\n",
       "            color:  #000000;\n",
       "        }#T_91307_row8_col9{\n",
       "            background-color:  #f7ac8e;\n",
       "            color:  #000000;\n",
       "        }#T_91307_row9_col0{\n",
       "            background-color:  #7699f6;\n",
       "            color:  #000000;\n",
       "        }#T_91307_row9_col2{\n",
       "            background-color:  #c1d4f4;\n",
       "            color:  #000000;\n",
       "        }#T_91307_row9_col3{\n",
       "            background-color:  #b7cff9;\n",
       "            color:  #000000;\n",
       "        }#T_91307_row9_col4{\n",
       "            background-color:  #efcebd;\n",
       "            color:  #000000;\n",
       "        }#T_91307_row9_col5{\n",
       "            background-color:  #bed2f6;\n",
       "            color:  #000000;\n",
       "        }#T_91307_row9_col6{\n",
       "            background-color:  #e6d7cf;\n",
       "            color:  #000000;\n",
       "        }#T_91307_row9_col8{\n",
       "            background-color:  #f7af91;\n",
       "            color:  #000000;\n",
       "        }#T_91307_row9_col10,#T_91307_row10_col7{\n",
       "            background-color:  #d7dce3;\n",
       "            color:  #000000;\n",
       "        }#T_91307_row10_col0{\n",
       "            background-color:  #779af7;\n",
       "            color:  #000000;\n",
       "        }#T_91307_row10_col1{\n",
       "            background-color:  #5a78e4;\n",
       "            color:  #000000;\n",
       "        }#T_91307_row10_col2{\n",
       "            background-color:  #6788ee;\n",
       "            color:  #000000;\n",
       "        }#T_91307_row10_col3{\n",
       "            background-color:  #f7aa8c;\n",
       "            color:  #000000;\n",
       "        }#T_91307_row10_col4{\n",
       "            background-color:  #90b2fe;\n",
       "            color:  #000000;\n",
       "        }#T_91307_row10_col6{\n",
       "            background-color:  #f2cbb7;\n",
       "            color:  #000000;\n",
       "        }#T_91307_row10_col8{\n",
       "            background-color:  #ead5c9;\n",
       "            color:  #000000;\n",
       "        }#T_91307_row10_col9{\n",
       "            background-color:  #dcdddd;\n",
       "            color:  #000000;\n",
       "        }</style><table id=\"T_91307_\" ><thead>    <tr>        <th class=\"blank level0\" ></th>        <th class=\"col_heading level0 col0\" >post_id</th>        <th class=\"col_heading level0 col1\" >polling</th>        <th class=\"col_heading level0 col2\" >content_len</th>        <th class=\"col_heading level0 col3\" >comments</th>        <th class=\"col_heading level0 col4\" >favs</th>        <th class=\"col_heading level0 col5\" >views</th>        <th class=\"col_heading level0 col6\" >votes_plus</th>        <th class=\"col_heading level0 col7\" >votes_minus</th>        <th class=\"col_heading level0 col8\" >views_lognorm</th>        <th class=\"col_heading level0 col9\" >favs_lognorm</th>        <th class=\"col_heading level0 col10\" >comments_lognorm</th>    </tr></thead><tbody>\n",
       "                <tr>\n",
       "                        <th id=\"T_91307_level0_row0\" class=\"row_heading level0 row0\" >post_id</th>\n",
       "                        <td id=\"T_91307_row0_col0\" class=\"data row0 col0\" >1.000000</td>\n",
       "                        <td id=\"T_91307_row0_col1\" class=\"data row0 col1\" >0.081628</td>\n",
       "                        <td id=\"T_91307_row0_col2\" class=\"data row0 col2\" >0.241384</td>\n",
       "                        <td id=\"T_91307_row0_col3\" class=\"data row0 col3\" >-0.147763</td>\n",
       "                        <td id=\"T_91307_row0_col4\" class=\"data row0 col4\" >0.089313</td>\n",
       "                        <td id=\"T_91307_row0_col5\" class=\"data row0 col5\" >0.132385</td>\n",
       "                        <td id=\"T_91307_row0_col6\" class=\"data row0 col6\" >-0.187885</td>\n",
       "                        <td id=\"T_91307_row0_col7\" class=\"data row0 col7\" >-0.235594</td>\n",
       "                        <td id=\"T_91307_row0_col8\" class=\"data row0 col8\" >-0.010376</td>\n",
       "                        <td id=\"T_91307_row0_col9\" class=\"data row0 col9\" >-0.005845</td>\n",
       "                        <td id=\"T_91307_row0_col10\" class=\"data row0 col10\" >-0.001605</td>\n",
       "            </tr>\n",
       "            <tr>\n",
       "                        <th id=\"T_91307_level0_row1\" class=\"row_heading level0 row1\" >polling</th>\n",
       "                        <td id=\"T_91307_row1_col0\" class=\"data row1 col0\" >0.081628</td>\n",
       "                        <td id=\"T_91307_row1_col1\" class=\"data row1 col1\" >1.000000</td>\n",
       "                        <td id=\"T_91307_row1_col2\" class=\"data row1 col2\" >-0.003337</td>\n",
       "                        <td id=\"T_91307_row1_col3\" class=\"data row1 col3\" >0.042605</td>\n",
       "                        <td id=\"T_91307_row1_col4\" class=\"data row1 col4\" >0.006882</td>\n",
       "                        <td id=\"T_91307_row1_col5\" class=\"data row1 col5\" >0.025660</td>\n",
       "                        <td id=\"T_91307_row1_col6\" class=\"data row1 col6\" >-0.033505</td>\n",
       "                        <td id=\"T_91307_row1_col7\" class=\"data row1 col7\" >0.027116</td>\n",
       "                        <td id=\"T_91307_row1_col8\" class=\"data row1 col8\" >-0.003523</td>\n",
       "                        <td id=\"T_91307_row1_col9\" class=\"data row1 col9\" >-0.036385</td>\n",
       "                        <td id=\"T_91307_row1_col10\" class=\"data row1 col10\" >0.071417</td>\n",
       "            </tr>\n",
       "            <tr>\n",
       "                        <th id=\"T_91307_level0_row2\" class=\"row_heading level0 row2\" >content_len</th>\n",
       "                        <td id=\"T_91307_row2_col0\" class=\"data row2 col0\" >0.241384</td>\n",
       "                        <td id=\"T_91307_row2_col1\" class=\"data row2 col1\" >-0.003337</td>\n",
       "                        <td id=\"T_91307_row2_col2\" class=\"data row2 col2\" >1.000000</td>\n",
       "                        <td id=\"T_91307_row2_col3\" class=\"data row2 col3\" >-0.023544</td>\n",
       "                        <td id=\"T_91307_row2_col4\" class=\"data row2 col4\" >0.308194</td>\n",
       "                        <td id=\"T_91307_row2_col5\" class=\"data row2 col5\" >0.204101</td>\n",
       "                        <td id=\"T_91307_row2_col6\" class=\"data row2 col6\" >0.068779</td>\n",
       "                        <td id=\"T_91307_row2_col7\" class=\"data row2 col7\" >-0.078686</td>\n",
       "                        <td id=\"T_91307_row2_col8\" class=\"data row2 col8\" >0.246063</td>\n",
       "                        <td id=\"T_91307_row2_col9\" class=\"data row2 col9\" >0.356481</td>\n",
       "                        <td id=\"T_91307_row2_col10\" class=\"data row2 col10\" >0.073132</td>\n",
       "            </tr>\n",
       "            <tr>\n",
       "                        <th id=\"T_91307_level0_row3\" class=\"row_heading level0 row3\" >comments</th>\n",
       "                        <td id=\"T_91307_row3_col0\" class=\"data row3 col0\" >-0.147763</td>\n",
       "                        <td id=\"T_91307_row3_col1\" class=\"data row3 col1\" >0.042605</td>\n",
       "                        <td id=\"T_91307_row3_col2\" class=\"data row3 col2\" >-0.023544</td>\n",
       "                        <td id=\"T_91307_row3_col3\" class=\"data row3 col3\" >1.000000</td>\n",
       "                        <td id=\"T_91307_row3_col4\" class=\"data row3 col4\" >0.164166</td>\n",
       "                        <td id=\"T_91307_row3_col5\" class=\"data row3 col5\" >0.290035</td>\n",
       "                        <td id=\"T_91307_row3_col6\" class=\"data row3 col6\" >0.613961</td>\n",
       "                        <td id=\"T_91307_row3_col7\" class=\"data row3 col7\" >0.457638</td>\n",
       "                        <td id=\"T_91307_row3_col8\" class=\"data row3 col8\" >0.349568</td>\n",
       "                        <td id=\"T_91307_row3_col9\" class=\"data row3 col9\" >0.278942</td>\n",
       "                        <td id=\"T_91307_row3_col10\" class=\"data row3 col10\" >0.662740</td>\n",
       "            </tr>\n",
       "            <tr>\n",
       "                        <th id=\"T_91307_level0_row4\" class=\"row_heading level0 row4\" >favs</th>\n",
       "                        <td id=\"T_91307_row4_col0\" class=\"data row4 col0\" >0.089313</td>\n",
       "                        <td id=\"T_91307_row4_col1\" class=\"data row4 col1\" >0.006882</td>\n",
       "                        <td id=\"T_91307_row4_col2\" class=\"data row4 col2\" >0.308194</td>\n",
       "                        <td id=\"T_91307_row4_col3\" class=\"data row4 col3\" >0.164166</td>\n",
       "                        <td id=\"T_91307_row4_col4\" class=\"data row4 col4\" >1.000000</td>\n",
       "                        <td id=\"T_91307_row4_col5\" class=\"data row4 col5\" >0.634304</td>\n",
       "                        <td id=\"T_91307_row4_col6\" class=\"data row4 col6\" >0.416241</td>\n",
       "                        <td id=\"T_91307_row4_col7\" class=\"data row4 col7\" >0.062877</td>\n",
       "                        <td id=\"T_91307_row4_col8\" class=\"data row4 col8\" >0.456097</td>\n",
       "                        <td id=\"T_91307_row4_col9\" class=\"data row4 col9\" >0.587982</td>\n",
       "                        <td id=\"T_91307_row4_col10\" class=\"data row4 col10\" >0.263239</td>\n",
       "            </tr>\n",
       "            <tr>\n",
       "                        <th id=\"T_91307_level0_row5\" class=\"row_heading level0 row5\" >views</th>\n",
       "                        <td id=\"T_91307_row5_col0\" class=\"data row5 col0\" >0.132385</td>\n",
       "                        <td id=\"T_91307_row5_col1\" class=\"data row5 col1\" >0.025660</td>\n",
       "                        <td id=\"T_91307_row5_col2\" class=\"data row5 col2\" >0.204101</td>\n",
       "                        <td id=\"T_91307_row5_col3\" class=\"data row5 col3\" >0.290035</td>\n",
       "                        <td id=\"T_91307_row5_col4\" class=\"data row5 col4\" >0.634304</td>\n",
       "                        <td id=\"T_91307_row5_col5\" class=\"data row5 col5\" >1.000000</td>\n",
       "                        <td id=\"T_91307_row5_col6\" class=\"data row5 col6\" >0.396849</td>\n",
       "                        <td id=\"T_91307_row5_col7\" class=\"data row5 col7\" >0.128654</td>\n",
       "                        <td id=\"T_91307_row5_col8\" class=\"data row5 col8\" >0.585105</td>\n",
       "                        <td id=\"T_91307_row5_col9\" class=\"data row5 col9\" >0.406782</td>\n",
       "                        <td id=\"T_91307_row5_col10\" class=\"data row5 col10\" >0.326427</td>\n",
       "            </tr>\n",
       "            <tr>\n",
       "                        <th id=\"T_91307_level0_row6\" class=\"row_heading level0 row6\" >votes_plus</th>\n",
       "                        <td id=\"T_91307_row6_col0\" class=\"data row6 col0\" >-0.187885</td>\n",
       "                        <td id=\"T_91307_row6_col1\" class=\"data row6 col1\" >-0.033505</td>\n",
       "                        <td id=\"T_91307_row6_col2\" class=\"data row6 col2\" >0.068779</td>\n",
       "                        <td id=\"T_91307_row6_col3\" class=\"data row6 col3\" >0.613961</td>\n",
       "                        <td id=\"T_91307_row6_col4\" class=\"data row6 col4\" >0.416241</td>\n",
       "                        <td id=\"T_91307_row6_col5\" class=\"data row6 col5\" >0.396849</td>\n",
       "                        <td id=\"T_91307_row6_col6\" class=\"data row6 col6\" >1.000000</td>\n",
       "                        <td id=\"T_91307_row6_col7\" class=\"data row6 col7\" >0.464168</td>\n",
       "                        <td id=\"T_91307_row6_col8\" class=\"data row6 col8\" >0.414232</td>\n",
       "                        <td id=\"T_91307_row6_col9\" class=\"data row6 col9\" >0.449712</td>\n",
       "                        <td id=\"T_91307_row6_col10\" class=\"data row6 col10\" >0.525081</td>\n",
       "            </tr>\n",
       "            <tr>\n",
       "                        <th id=\"T_91307_level0_row7\" class=\"row_heading level0 row7\" >votes_minus</th>\n",
       "                        <td id=\"T_91307_row7_col0\" class=\"data row7 col0\" >-0.235594</td>\n",
       "                        <td id=\"T_91307_row7_col1\" class=\"data row7 col1\" >0.027116</td>\n",
       "                        <td id=\"T_91307_row7_col2\" class=\"data row7 col2\" >-0.078686</td>\n",
       "                        <td id=\"T_91307_row7_col3\" class=\"data row7 col3\" >0.457638</td>\n",
       "                        <td id=\"T_91307_row7_col4\" class=\"data row7 col4\" >0.062877</td>\n",
       "                        <td id=\"T_91307_row7_col5\" class=\"data row7 col5\" >0.128654</td>\n",
       "                        <td id=\"T_91307_row7_col6\" class=\"data row7 col6\" >0.464168</td>\n",
       "                        <td id=\"T_91307_row7_col7\" class=\"data row7 col7\" >1.000000</td>\n",
       "                        <td id=\"T_91307_row7_col8\" class=\"data row7 col8\" >0.146609</td>\n",
       "                        <td id=\"T_91307_row7_col9\" class=\"data row7 col9\" >0.088226</td>\n",
       "                        <td id=\"T_91307_row7_col10\" class=\"data row7 col10\" >0.355458</td>\n",
       "            </tr>\n",
       "            <tr>\n",
       "                        <th id=\"T_91307_level0_row8\" class=\"row_heading level0 row8\" >views_lognorm</th>\n",
       "                        <td id=\"T_91307_row8_col0\" class=\"data row8 col0\" >-0.010376</td>\n",
       "                        <td id=\"T_91307_row8_col1\" class=\"data row8 col1\" >-0.003523</td>\n",
       "                        <td id=\"T_91307_row8_col2\" class=\"data row8 col2\" >0.246063</td>\n",
       "                        <td id=\"T_91307_row8_col3\" class=\"data row8 col3\" >0.349568</td>\n",
       "                        <td id=\"T_91307_row8_col4\" class=\"data row8 col4\" >0.456097</td>\n",
       "                        <td id=\"T_91307_row8_col5\" class=\"data row8 col5\" >0.585105</td>\n",
       "                        <td id=\"T_91307_row8_col6\" class=\"data row8 col6\" >0.414232</td>\n",
       "                        <td id=\"T_91307_row8_col7\" class=\"data row8 col7\" >0.146609</td>\n",
       "                        <td id=\"T_91307_row8_col8\" class=\"data row8 col8\" >1.000000</td>\n",
       "                        <td id=\"T_91307_row8_col9\" class=\"data row8 col9\" >0.688811</td>\n",
       "                        <td id=\"T_91307_row8_col10\" class=\"data row8 col10\" >0.546530</td>\n",
       "            </tr>\n",
       "            <tr>\n",
       "                        <th id=\"T_91307_level0_row9\" class=\"row_heading level0 row9\" >favs_lognorm</th>\n",
       "                        <td id=\"T_91307_row9_col0\" class=\"data row9 col0\" >-0.005845</td>\n",
       "                        <td id=\"T_91307_row9_col1\" class=\"data row9 col1\" >-0.036385</td>\n",
       "                        <td id=\"T_91307_row9_col2\" class=\"data row9 col2\" >0.356481</td>\n",
       "                        <td id=\"T_91307_row9_col3\" class=\"data row9 col3\" >0.278942</td>\n",
       "                        <td id=\"T_91307_row9_col4\" class=\"data row9 col4\" >0.587982</td>\n",
       "                        <td id=\"T_91307_row9_col5\" class=\"data row9 col5\" >0.406782</td>\n",
       "                        <td id=\"T_91307_row9_col6\" class=\"data row9 col6\" >0.449712</td>\n",
       "                        <td id=\"T_91307_row9_col7\" class=\"data row9 col7\" >0.088226</td>\n",
       "                        <td id=\"T_91307_row9_col8\" class=\"data row9 col8\" >0.688811</td>\n",
       "                        <td id=\"T_91307_row9_col9\" class=\"data row9 col9\" >1.000000</td>\n",
       "                        <td id=\"T_91307_row9_col10\" class=\"data row9 col10\" >0.479476</td>\n",
       "            </tr>\n",
       "            <tr>\n",
       "                        <th id=\"T_91307_level0_row10\" class=\"row_heading level0 row10\" >comments_lognorm</th>\n",
       "                        <td id=\"T_91307_row10_col0\" class=\"data row10 col0\" >-0.001605</td>\n",
       "                        <td id=\"T_91307_row10_col1\" class=\"data row10 col1\" >0.071417</td>\n",
       "                        <td id=\"T_91307_row10_col2\" class=\"data row10 col2\" >0.073132</td>\n",
       "                        <td id=\"T_91307_row10_col3\" class=\"data row10 col3\" >0.662740</td>\n",
       "                        <td id=\"T_91307_row10_col4\" class=\"data row10 col4\" >0.263239</td>\n",
       "                        <td id=\"T_91307_row10_col5\" class=\"data row10 col5\" >0.326427</td>\n",
       "                        <td id=\"T_91307_row10_col6\" class=\"data row10 col6\" >0.525081</td>\n",
       "                        <td id=\"T_91307_row10_col7\" class=\"data row10 col7\" >0.355458</td>\n",
       "                        <td id=\"T_91307_row10_col8\" class=\"data row10 col8\" >0.546530</td>\n",
       "                        <td id=\"T_91307_row10_col9\" class=\"data row10 col9\" >0.479476</td>\n",
       "                        <td id=\"T_91307_row10_col10\" class=\"data row10 col10\" >1.000000</td>\n",
       "            </tr>\n",
       "    </tbody></table>"
      ],
      "text/plain": [
       "<pandas.io.formats.style.Styler at 0x20f8fa85040>"
      ]
     },
     "execution_count": 5,
     "metadata": {},
     "output_type": "execute_result"
    }
   ],
   "source": [
    "corr = train_df.corr()\n",
    "corr.style.background_gradient(cmap='coolwarm')"
   ]
  },
  {
   "cell_type": "markdown",
   "id": "c26fbf4b",
   "metadata": {},
   "source": [
    "В каком году было больше всего публикаций? (Рассматриваем train_df)"
   ]
  },
  {
   "cell_type": "code",
   "execution_count": 6,
   "id": "69885c56",
   "metadata": {},
   "outputs": [],
   "source": [
    "train_df['published'] = pd.to_datetime(train_df['published'])\n",
    "train_df['year'] = [i.year for i in train_df['published']]"
   ]
  },
  {
   "cell_type": "code",
   "execution_count": 7,
   "id": "e31a82a7",
   "metadata": {},
   "outputs": [],
   "source": [
    "year_number = train_df.loc[:, 'year'].value_counts()"
   ]
  },
  {
   "cell_type": "code",
   "execution_count": 8,
   "id": "815882de",
   "metadata": {},
   "outputs": [
    {
     "data": {
      "text/plain": [
       "<BarContainer object of 9 artists>"
      ]
     },
     "execution_count": 8,
     "metadata": {},
     "output_type": "execute_result"
    },
    {
     "data": {
      "image/png": "[encoded data removed]",
      "text/plain": [
       "<Figure size 432x288 with 1 Axes>"
      ]
     },
     "metadata": {
      "needs_background": "light"
     },
     "output_type": "display_data"
    }
   ],
   "source": [
    "plt.bar(x=year_number.index, height=year_number)"
   ]
  },
  {
   "cell_type": "markdown",
   "id": "e22599dd",
   "metadata": {},
   "source": [
    "## Разбиение на train/valid\n",
    "Используем только признаки 'author', 'flow', 'domain' и 'title'"
   ]
  },
  {
   "cell_type": "code",
   "execution_count": 9,
   "id": "9fe918e3",
   "metadata": {},
   "outputs": [],
   "source": [
    "features = ['author', 'flow', 'domain','title']\n",
    "train_size = int(0.7 * train_df.shape[0])"
   ]
  },
  {
   "cell_type": "code",
   "execution_count": 10,
   "id": "426230b1",
   "metadata": {},
   "outputs": [
    {
     "data": {
      "text/plain": [
       "(134137, 93895)"
      ]
     },
     "execution_count": 10,
     "metadata": {},
     "output_type": "execute_result"
    }
   ],
   "source": [
    "len(train_df), train_size"
   ]
  },
  {
   "cell_type": "code",
   "execution_count": 11,
   "id": "e68e2c9b",
   "metadata": {},
   "outputs": [],
   "source": [
    "X, y = train_df.loc[:, features],  train_df['favs_lognorm']"
   ]
  },
  {
   "cell_type": "code",
   "execution_count": 12,
   "id": "754e6d1c",
   "metadata": {},
   "outputs": [],
   "source": [
    "X_test = test_df.loc[:, features]"
   ]
  },
  {
   "cell_type": "code",
   "execution_count": 13,
   "id": "97e86ca1",
   "metadata": {},
   "outputs": [],
   "source": [
    "X_train, X_valid = X.iloc[:train_size, :], X.iloc[train_size:,:]\n",
    "\n",
    "y_train, y_valid = y.iloc[:train_size], y.iloc[train_size:]"
   ]
  },
  {
   "cell_type": "markdown",
   "id": "46359750",
   "metadata": {},
   "source": [
    "## Применение TfidfVectorizer\n",
    "TF-IDF (от англ. TF — term frequency, IDF — inverse document frequency) — статистическая мера, используемая для оценки важности слова в контексте документа, являющегося частью коллекции документов или корпуса. Вес некоторого слова пропорционален количеству употребления этого слова в документе, и обратно пропорционален частоте употребления слова в других документах коллекции. Подробнее в источнике\n",
    "\n",
    "TfidfVectorizer преобразует тексты в матрицу TF-IDF признаков.\n",
    "\n",
    "Основные параметры TfidfVectorizer в sklearn:\n",
    "\n",
    "min_df - при построении словаря слова, которые встречаются реже, чем указанное значение, игнорируются\n",
    "\n",
    "max_df - при построении словаря слова, которые встречаются чаще, чем указанное значение, игнорируются\n",
    "\n",
    "analyzer - определяет, строятся ли признаки по словам или по символам (буквам)\n",
    "\n",
    "ngram_range - определяет, формируются ли признаки только из отдельных слов или из нескольких слов (в случае с analyzer='char' задает количество символов). Например, если указать analyzer='word' и ngram_range=(1,3),то признаки будут формироваться из отдельных слов, из пар слов и из троек слов.\n",
    "\n",
    "stop_words - слова, которые игнорируются при построении матрицы\n",
    "\n",
    "Более подробно с параметрами можно ознакомиться в документации"
   ]
  },
  {
   "cell_type": "markdown",
   "id": "9a20057b",
   "metadata": {},
   "source": [
    "Инициализируйте TfidfVectorizer с параметрами min_df=3, max_df=0.3 и ngram_range=(1, 3).\n",
    "Примените метод fit_transform к X_train['title'] и метод transform к X_valid['title'] и X_test['title']"
   ]
  },
  {
   "cell_type": "code",
   "execution_count": 14,
   "id": "ce62e63f",
   "metadata": {},
   "outputs": [],
   "source": [
    "tfid_vect = TfidfVectorizer(min_df=3, max_df=0.3, ngram_range=(1, 3))"
   ]
  },
  {
   "cell_type": "code",
   "execution_count": 15,
   "id": "bcad2488",
   "metadata": {},
   "outputs": [],
   "source": [
    "X_train_title = tfid_vect.fit_transform(X_train['title'])\n",
    "X_valid_title  =tfid_vect.transform(X_valid['title'])\n",
    "X_test_title  =tfid_vect.transform(X_test['title'])"
   ]
  },
  {
   "cell_type": "markdown",
   "id": "b1d898d0",
   "metadata": {},
   "source": [
    "Какой размер у полученного словаря?"
   ]
  },
  {
   "cell_type": "code",
   "execution_count": 16,
   "id": "e853593c",
   "metadata": {},
   "outputs": [
    {
     "data": {
      "text/plain": [
       "50624"
      ]
     },
     "execution_count": 16,
     "metadata": {},
     "output_type": "execute_result"
    }
   ],
   "source": [
    "len(tfid_vect.vocabulary_)"
   ]
  },
  {
   "cell_type": "markdown",
   "id": "2be6df77",
   "metadata": {},
   "source": [
    "Какой индекс у слова 'python'?"
   ]
  },
  {
   "cell_type": "code",
   "execution_count": 17,
   "id": "22c2aa01",
   "metadata": {},
   "outputs": [
    {
     "data": {
      "text/plain": [
       "9065"
      ]
     },
     "execution_count": 17,
     "metadata": {},
     "output_type": "execute_result"
    }
   ],
   "source": [
    "tfid_vect.vocabulary_['python']"
   ]
  },
  {
   "cell_type": "markdown",
   "id": "dfa038bc",
   "metadata": {},
   "source": [
    "Инициализируйте TfidfVectorizer, указав analyzer='char'.\n",
    "\n",
    "Примените метод fit_transform к X_train['title'] и метод transform к X_valid['title'] и X_test['title']"
   ]
  },
  {
   "cell_type": "code",
   "execution_count": 18,
   "id": "3802c2ff",
   "metadata": {},
   "outputs": [],
   "source": [
    "tfid_char = TfidfVectorizer(analyzer='char')"
   ]
  },
  {
   "cell_type": "code",
   "execution_count": 40,
   "id": "0444d5fb",
   "metadata": {},
   "outputs": [],
   "source": [
    "X_train_title_ch = tfid_char.fit_transform(X_train['title'])\n",
    "X_valid_title_ch = tfid_char.transform(X_valid['title'])\n",
    "X_test_title_ch = tfid_char.transform(X_test['title'])"
   ]
  },
  {
   "cell_type": "markdown",
   "id": "f6311a3c",
   "metadata": {},
   "source": [
    "Какой размер у полученного словаря?"
   ]
  },
  {
   "cell_type": "code",
   "execution_count": 20,
   "id": "136484fd",
   "metadata": {},
   "outputs": [
    {
     "data": {
      "text/plain": [
       "218"
      ]
     },
     "execution_count": 20,
     "metadata": {},
     "output_type": "execute_result"
    }
   ],
   "source": [
    "len(tfid_char.vocabulary_)"
   ]
  },
  {
   "cell_type": "code",
   "execution_count": 21,
   "id": "a2182e4e",
   "metadata": {},
   "outputs": [
    {
     "name": "stdout",
     "output_type": "stream",
     "text": [
      "{'н': 133, 'о': 134, 'в': 122, 'г': 123, 'д': 124, 'и': 128, 'й': 129, ' ': 0, 'п': 135, 'а': 120, 'р': 136, 'к': 130, 'б': 121, 'л': 131, 'е': 125, 'м': 132, '—': 170, 'w': 61, 'o': 53, 'r': 56, 'd': 42, 'p': 54, 'e': 43, 's': 57, '2': 18, '.': 14, '3': 19, 'с': 137, 'у': 139, 'ш': 144, 'я': 151, 'ц': 142, ',': 12, 'т': 138, 'ж': 126, 'ф': 140, 'ь': 148, 'ч': 143, 'i': 47, 'h': 46, 'n': 52, 'm': 51, 'b': 40, 'l': 50, '0': 16, 'щ': 145, 'k': 49, 'v': 60, 'a': 39, 'u': 59, ':': 26, 'c': 41, 'з': 127, 'ы': 147, '«': 76, '»': 85, 'х': 141, 'j': 48, '?': 31, 't': 58, '-': 13, '1': 17, '8': 24, '!': 1, '9': 25, '5': 21, '7': 23, 'q': 55, 'y': 63, 'x': 62, 'g': 45, 'ю': 150, 'ъ': 146, '4': 20, '=': 29, '(': 8, ')': 9, '+': 11, 'f': 44, '…': 178, 'э': 149, '6': 22, 'z': 64, '/': 15, '$': 4, 'ё': 152, \"'\": 7, '№': 187, '–': 169, '[': 33, ']': 35, '_': 37, '\\xa0': 71, '*': 10, '%': 5, '{': 65, '}': 67, '’': 173, '|': 66, '“': 174, '”': 175, ';': 27, '&': 6, '‐': 167, '>': 30, '@': 32, '\\\\': 34, '#': 3, '\\x92': 69, '§': 74, 'ј': 155, '≠': 202, '©': 75, '\\u2009': 164, '`': 38, '♥': 210, '®': 78, '\\u202d': 181, '\\u202c': 180, '☣': 207, 'β': 114, '\\x97': 70, '<': 28, '~': 68, '\"': 2, '±': 80, '™': 188, '→': 193, '°': 79, '^': 36, 'ë': 95, 'ʇ': 108, 'ǝ': 106, 'ı': 105, 'ɟ': 107, 'і': 153, 'ї': 154, 'ö': 100, 'µ': 82, '²': 81, 'μ': 117, '́': 109, '\\xad': 77, '−': 199, '£': 72, 'ó': 99, '⇄': 196, '❤': 212, 'ø': 101, '♠': 209, 'ω': 119, '♫': 211, '€': 186, 'λ': 116, '↔': 194, '☼': 208, '۞': 159, '▼': 204, '↑': 192, '۩': 160, '←': 191, '⅜': 190, 'π': 118, '¥': 73, '―': 171, 'ü': 104, 'é': 94, '„': 176, 'ў': 156, 'δ': 115, '฿': 161, 'ä': 92, '‘': 172, '\\u2002': 162, '\\ufeff': 216, '×': 88, '\\u200e': 166, '⇨': 198, '∙': 200, '↺': 195, '━': 203, '½': 87, '≈': 201, 'қ': 158, 'à': 89, 'ѣ': 157, 'ú': 103, '′': 182, 'á': 90, '¼': 86, '·': 83, '‽': 184, '̆': 110, '\\u200b': 165, '⇒': 197, '！': 217, '̶': 113, '″': 183, '•': 177, '\\u2006': 163, '̱': 111, '̲': 112, '‑': 168, 'ò': 98, 'ï': 96, 'ñ': 97, 'â': 91, 'ù': 102, '☢': 206, '☠': 205, '打': 214, '印': 213, '机': 215, '⁰': 185, '¹': 84, '\\u2028': 179, 'ç': 93, '⅓': 189}\n"
     ]
    }
   ],
   "source": [
    "print(tfid_char.vocabulary_)"
   ]
  },
  {
   "cell_type": "markdown",
   "id": "a55ba5b2",
   "metadata": {},
   "source": [
    "## Работа с категориальными признаками\n",
    "\n",
    "Для обработки категориальных признаков 'author', 'flow', 'domain' мы будем использовать DictVectorizer из sklearn."
   ]
  },
  {
   "cell_type": "code",
   "execution_count": 22,
   "id": "ebf85a32",
   "metadata": {},
   "outputs": [
    {
     "data": {
      "text/html": [
       "<div>\n",
       "<style scoped>\n",
       "    .dataframe tbody tr th:only-of-type {\n",
       "        vertical-align: middle;\n",
       "    }\n",
       "\n",
       "    .dataframe tbody tr th {\n",
       "        vertical-align: top;\n",
       "    }\n",
       "\n",
       "    .dataframe thead th {\n",
       "        text-align: right;\n",
       "    }\n",
       "</style>\n",
       "<table border=\"1\" class=\"dataframe\">\n",
       "  <thead>\n",
       "    <tr style=\"text-align: right;\">\n",
       "      <th></th>\n",
       "      <th>author</th>\n",
       "      <th>flow</th>\n",
       "      <th>domain</th>\n",
       "    </tr>\n",
       "  </thead>\n",
       "  <tbody>\n",
       "    <tr>\n",
       "      <th>0</th>\n",
       "      <td>@Tapac</td>\n",
       "      <td>develop</td>\n",
       "      <td>habrahabr.ru</td>\n",
       "    </tr>\n",
       "    <tr>\n",
       "      <th>1</th>\n",
       "      <td>@DezmASter</td>\n",
       "      <td>design</td>\n",
       "      <td>habrahabr.ru</td>\n",
       "    </tr>\n",
       "    <tr>\n",
       "      <th>2</th>\n",
       "      <td>@DezmASter</td>\n",
       "      <td>design</td>\n",
       "      <td>habrahabr.ru</td>\n",
       "    </tr>\n",
       "    <tr>\n",
       "      <th>3</th>\n",
       "      <td>@Taoorus</td>\n",
       "      <td>design</td>\n",
       "      <td>habrahabr.ru</td>\n",
       "    </tr>\n",
       "    <tr>\n",
       "      <th>4</th>\n",
       "      <td>@dennydo</td>\n",
       "      <td>NaN</td>\n",
       "      <td>geektimes.ru</td>\n",
       "    </tr>\n",
       "  </tbody>\n",
       "</table>\n",
       "</div>"
      ],
      "text/plain": [
       "       author     flow        domain\n",
       "0      @Tapac  develop  habrahabr.ru\n",
       "1  @DezmASter   design  habrahabr.ru\n",
       "2  @DezmASter   design  habrahabr.ru\n",
       "3    @Taoorus   design  habrahabr.ru\n",
       "4    @dennydo      NaN  geektimes.ru"
      ]
     },
     "execution_count": 22,
     "metadata": {},
     "output_type": "execute_result"
    }
   ],
   "source": [
    "feats = ['author', 'flow', 'domain']\n",
    "X_train[feats][:5]"
   ]
  },
  {
   "cell_type": "markdown",
   "id": "440887d9",
   "metadata": {},
   "source": [
    "Рассмотрим как он работает на примере первых пяти строк"
   ]
  },
  {
   "cell_type": "markdown",
   "id": "17af0626",
   "metadata": {},
   "source": [
    "Заполним пропуски"
   ]
  },
  {
   "cell_type": "code",
   "execution_count": 23,
   "id": "9f56d0da",
   "metadata": {},
   "outputs": [
    {
     "data": {
      "text/html": [
       "<div>\n",
       "<style scoped>\n",
       "    .dataframe tbody tr th:only-of-type {\n",
       "        vertical-align: middle;\n",
       "    }\n",
       "\n",
       "    .dataframe tbody tr th {\n",
       "        vertical-align: top;\n",
       "    }\n",
       "\n",
       "    .dataframe thead th {\n",
       "        text-align: right;\n",
       "    }\n",
       "</style>\n",
       "<table border=\"1\" class=\"dataframe\">\n",
       "  <thead>\n",
       "    <tr style=\"text-align: right;\">\n",
       "      <th></th>\n",
       "      <th>author</th>\n",
       "      <th>flow</th>\n",
       "      <th>domain</th>\n",
       "    </tr>\n",
       "  </thead>\n",
       "  <tbody>\n",
       "    <tr>\n",
       "      <th>0</th>\n",
       "      <td>@Tapac</td>\n",
       "      <td>develop</td>\n",
       "      <td>habrahabr.ru</td>\n",
       "    </tr>\n",
       "    <tr>\n",
       "      <th>1</th>\n",
       "      <td>@DezmASter</td>\n",
       "      <td>design</td>\n",
       "      <td>habrahabr.ru</td>\n",
       "    </tr>\n",
       "    <tr>\n",
       "      <th>2</th>\n",
       "      <td>@DezmASter</td>\n",
       "      <td>design</td>\n",
       "      <td>habrahabr.ru</td>\n",
       "    </tr>\n",
       "    <tr>\n",
       "      <th>3</th>\n",
       "      <td>@Taoorus</td>\n",
       "      <td>design</td>\n",
       "      <td>habrahabr.ru</td>\n",
       "    </tr>\n",
       "    <tr>\n",
       "      <th>4</th>\n",
       "      <td>@dennydo</td>\n",
       "      <td>-</td>\n",
       "      <td>geektimes.ru</td>\n",
       "    </tr>\n",
       "  </tbody>\n",
       "</table>\n",
       "</div>"
      ],
      "text/plain": [
       "       author     flow        domain\n",
       "0      @Tapac  develop  habrahabr.ru\n",
       "1  @DezmASter   design  habrahabr.ru\n",
       "2  @DezmASter   design  habrahabr.ru\n",
       "3    @Taoorus   design  habrahabr.ru\n",
       "4    @dennydo        -  geektimes.ru"
      ]
     },
     "execution_count": 23,
     "metadata": {},
     "output_type": "execute_result"
    }
   ],
   "source": [
    "X_train[feats][:5].fillna('-')"
   ]
  },
  {
   "cell_type": "markdown",
   "id": "28d5fa8e",
   "metadata": {},
   "source": [
    "Преобразуем датафрейм в словарь, где ключами являются индексы объектов (именно для этого мы транспонировали датафрейм), а значениями являются словари в виде 'название_колонки':'значение'"
   ]
  },
  {
   "cell_type": "code",
   "execution_count": 24,
   "id": "715a2d9a",
   "metadata": {},
   "outputs": [
    {
     "data": {
      "text/plain": [
       "{0: {'author': '@Tapac', 'flow': 'develop', 'domain': 'habrahabr.ru'},\n",
       " 1: {'author': '@DezmASter', 'flow': 'design', 'domain': 'habrahabr.ru'},\n",
       " 2: {'author': '@DezmASter', 'flow': 'design', 'domain': 'habrahabr.ru'},\n",
       " 3: {'author': '@Taoorus', 'flow': 'design', 'domain': 'habrahabr.ru'},\n",
       " 4: {'author': '@dennydo', 'flow': '-', 'domain': 'geektimes.ru'}}"
      ]
     },
     "execution_count": 24,
     "metadata": {},
     "output_type": "execute_result"
    }
   ],
   "source": [
    "X_train[feats][:5].fillna('-').T.to_dict()"
   ]
  },
  {
   "cell_type": "markdown",
   "id": "9982cf65",
   "metadata": {},
   "source": [
    "В DictVectorizer нам нужно будет передать список словарей для каждого объекта в виде 'название_колонки':'значение', поэтому используем .values()"
   ]
  },
  {
   "cell_type": "code",
   "execution_count": 25,
   "id": "1bb3e9b7",
   "metadata": {},
   "outputs": [
    {
     "data": {
      "text/plain": [
       "dict_values([{'author': '@Tapac', 'flow': 'develop', 'domain': 'habrahabr.ru'}, {'author': '@DezmASter', 'flow': 'design', 'domain': 'habrahabr.ru'}, {'author': '@DezmASter', 'flow': 'design', 'domain': 'habrahabr.ru'}, {'author': '@Taoorus', 'flow': 'design', 'domain': 'habrahabr.ru'}, {'author': '@dennydo', 'flow': '-', 'domain': 'geektimes.ru'}])"
      ]
     },
     "execution_count": 25,
     "metadata": {},
     "output_type": "execute_result"
    }
   ],
   "source": [
    "X_train[feats][:5].fillna('-').T.to_dict().values()"
   ]
  },
  {
   "cell_type": "markdown",
   "id": "a6f0d8ad",
   "metadata": {},
   "source": [
    "В итоге получается разреженная матрица"
   ]
  },
  {
   "cell_type": "code",
   "execution_count": 26,
   "id": "0ecbffe0",
   "metadata": {},
   "outputs": [
    {
     "data": {
      "text/plain": [
       "<5x9 sparse matrix of type '<class 'numpy.float64'>'\n",
       "\twith 15 stored elements in Compressed Sparse Row format>"
      ]
     },
     "execution_count": 26,
     "metadata": {},
     "output_type": "execute_result"
    }
   ],
   "source": [
    "dict_vect = DictVectorizer()\n",
    "dict_vect_matrix = dict_vect.fit_transform(X_train[feats][:5].fillna('-').T.to_dict().values())\n",
    "dict_vect_matrix"
   ]
  },
  {
   "cell_type": "markdown",
   "id": "f8e0e218",
   "metadata": {},
   "source": [
    "Но можно преобразовать ее в numpy array с помощью .toarray()"
   ]
  },
  {
   "cell_type": "code",
   "execution_count": 27,
   "id": "76b99bb3",
   "metadata": {},
   "outputs": [
    {
     "data": {
      "text/plain": [
       "array([[0., 0., 1., 0., 0., 1., 0., 0., 1.],\n",
       "       [1., 0., 0., 0., 0., 1., 0., 1., 0.],\n",
       "       [1., 0., 0., 0., 0., 1., 0., 1., 0.],\n",
       "       [0., 1., 0., 0., 0., 1., 0., 1., 0.],\n",
       "       [0., 0., 0., 1., 1., 0., 1., 0., 0.]])"
      ]
     },
     "execution_count": 27,
     "metadata": {},
     "output_type": "execute_result"
    }
   ],
   "source": [
    "dict_vect_matrix.toarray()"
   ]
  },
  {
   "cell_type": "markdown",
   "id": "dc8e80e0",
   "metadata": {},
   "source": [
    "В получившейся матрице 5 строк (по числу объектов) и 9 столбцов\n",
    "\n",
    "Далее разберемся почему колонок именно 9"
   ]
  },
  {
   "cell_type": "code",
   "execution_count": 28,
   "id": "995ac495",
   "metadata": {},
   "outputs": [
    {
     "data": {
      "text/plain": [
       "(5, 9)"
      ]
     },
     "execution_count": 28,
     "metadata": {},
     "output_type": "execute_result"
    }
   ],
   "source": [
    "dict_vect_matrix.shape"
   ]
  },
  {
   "cell_type": "markdown",
   "id": "48870588",
   "metadata": {},
   "source": [
    "Посмотрим сколько уникальных значений в каждой колонке.\n",
    "Суммарно их 9 - столько же, сколько и колонок. Это объясняется тем, что для категориальных признаков со строковыми значениями DictVectorizer делает кодирование бинарными признаками - каждому уникальному значению признака соответствует один новый бинарный признак, который равен 1 только в том случае, если в исходной матрице этот признак принимает значение, которому соответствует эта колонка новой матрицы."
   ]
  },
  {
   "cell_type": "code",
   "execution_count": 29,
   "id": "a10b38c5",
   "metadata": {},
   "outputs": [
    {
     "name": "stdout",
     "output_type": "stream",
     "text": [
      "author 4\n",
      "flow 3\n",
      "domain 2\n"
     ]
    }
   ],
   "source": [
    "for col in feats:\n",
    "    print(col,len(X_train[col][:5].fillna('-').unique()))"
   ]
  },
  {
   "cell_type": "markdown",
   "id": "24d11ea1",
   "metadata": {},
   "source": [
    "Также можно посмотреть что означает каждая колонка полученной матрицы\n",
    "\n",
    "например, самая первая колонка называется 'author=@DezmASter' - то есть принимает значение 1 только если автор @DezmASter"
   ]
  },
  {
   "cell_type": "code",
   "execution_count": 30,
   "id": "fa5da39a",
   "metadata": {},
   "outputs": [
    {
     "data": {
      "text/plain": [
       "['author=@DezmASter',\n",
       " 'author=@Taoorus',\n",
       " 'author=@Tapac',\n",
       " 'author=@dennydo',\n",
       " 'domain=geektimes.ru',\n",
       " 'domain=habrahabr.ru',\n",
       " 'flow=-',\n",
       " 'flow=design',\n",
       " 'flow=develop']"
      ]
     },
     "execution_count": 30,
     "metadata": {},
     "output_type": "execute_result"
    }
   ],
   "source": [
    "dict_vect.feature_names_"
   ]
  },
  {
   "cell_type": "markdown",
   "id": "3efb36f5",
   "metadata": {},
   "source": [
    "Инициализируйте DictVectorizer с параметрами по умолчанию.\n",
    "Примените метод fit_transform к X_train[feats] и метод transform к X_valid[feats] и X_test[feats]"
   ]
  },
  {
   "cell_type": "code",
   "execution_count": 36,
   "id": "1d18ed15",
   "metadata": {},
   "outputs": [],
   "source": [
    "vectorizer_feats = DictVectorizer()\n",
    "\n",
    "X_train_feats = vectorizer_feats.fit_transform(X_train[feats][:].fillna('-').T.to_dict().values())\n",
    "X_valid_feats = vectorizer_feats.transform(X_valid[feats][:].fillna('-').T.to_dict().values())\n",
    "X_test_feats = vectorizer_feats.transform(X_test[feats][:].fillna('-').T.to_dict().values())"
   ]
  },
  {
   "cell_type": "code",
   "execution_count": 37,
   "id": "fbf7c19c",
   "metadata": {},
   "outputs": [
    {
     "data": {
      "text/plain": [
       "(93895, 17869)"
      ]
     },
     "execution_count": 37,
     "metadata": {},
     "output_type": "execute_result"
    }
   ],
   "source": [
    "X_train_feats.shape"
   ]
  },
  {
   "cell_type": "markdown",
   "id": "4f972ead",
   "metadata": {},
   "source": [
    "Соединим все полученные матрицы при помощи scipy.sparse.hstack()"
   ]
  },
  {
   "cell_type": "code",
   "execution_count": 41,
   "id": "1969be06",
   "metadata": {},
   "outputs": [],
   "source": [
    "import scipy\n",
    "X_train_new = scipy.sparse.hstack([X_train_title, X_train_feats, X_train_title_ch])\n",
    "X_valid_new = scipy.sparse.hstack([X_valid_title, X_valid_feats, X_valid_title_ch])\n",
    "X_test_new =  scipy.sparse.hstack([X_test_title, X_test_feats, X_test_title_ch])"
   ]
  },
  {
   "cell_type": "markdown",
   "id": "66af533e",
   "metadata": {},
   "source": [
    "## Обучение модели\n",
    "\n",
    "Далее будем использовать Ridge, линейную модель с l2-регуляризацией.\n",
    "\n",
    "Основной параметр Ridge - alpha, коэффициент регуляризации. Регуляризация используется для улучшения обобщающей способности модели - прибавляя к функционалу потерь сумму квадратов весов, умноженную на коэффициент регуляризации (та самая alpha), мы штрафуем модель за слишком большие значения весов и не позволяем ей переобучаться. Чем больше этот коээфициент, тем сильнее эффект.\n",
    "\n",
    "Обучите две модели на X_train_new, y_train, задав в первой alpha=0.1 и random_state = 1, а во второй alpha=1.0 и random_state = 1\n",
    "\n",
    "Рассчитайте среднеквадратичную ошибку каждой модели (mean_squared_error). Сравните значения ошибки на обучающей и тестовой выборках и ответьте на вопросы."
   ]
  },
  {
   "cell_type": "code",
   "execution_count": 44,
   "id": "ac5c6615",
   "metadata": {},
   "outputs": [
    {
     "name": "stdout",
     "output_type": "stream",
     "text": [
      "Wall time: 3.98 s\n"
     ]
    },
    {
     "data": {
      "text/plain": [
       "Ridge(alpha=0.1, random_state=1)"
      ]
     },
     "execution_count": 44,
     "metadata": {},
     "output_type": "execute_result"
    }
   ],
   "source": [
    "%%time\n",
    "model1 = Ridge(alpha=0.1, random_state=1)\n",
    "model1.fit(X_train_new, y_train)"
   ]
  },
  {
   "cell_type": "code",
   "execution_count": 45,
   "id": "02165c95",
   "metadata": {},
   "outputs": [
    {
     "data": {
      "text/plain": [
       "0.9031661010515443"
      ]
     },
     "execution_count": 45,
     "metadata": {},
     "output_type": "execute_result"
    }
   ],
   "source": [
    "prediction1 = model1.predict(X_valid_new)\n",
    "mean_squared_error(y_valid, prediction1)"
   ]
  },
  {
   "cell_type": "code",
   "execution_count": 46,
   "id": "0e089550",
   "metadata": {},
   "outputs": [
    {
     "name": "stdout",
     "output_type": "stream",
     "text": [
      "Wall time: 1.96 s\n"
     ]
    },
    {
     "data": {
      "text/plain": [
       "Ridge(alpha=1, random_state=1)"
      ]
     },
     "execution_count": 46,
     "metadata": {},
     "output_type": "execute_result"
    }
   ],
   "source": [
    "%%time\n",
    "model2 = Ridge(alpha=1, random_state=1)\n",
    "model2.fit(X_train_new, y_train)"
   ]
  },
  {
   "cell_type": "code",
   "execution_count": 47,
   "id": "8cbac412",
   "metadata": {},
   "outputs": [
    {
     "data": {
      "text/plain": [
       "0.700997767013925"
      ]
     },
     "execution_count": 47,
     "metadata": {},
     "output_type": "execute_result"
    }
   ],
   "source": [
    "prediction2 = model2.predict(X_valid_new)\n",
    "mean_squared_error(y_valid, prediction2)"
   ]
  },
  {
   "cell_type": "code",
   "execution_count": null,
   "id": "6e3a67a2",
   "metadata": {},
   "outputs": [],
   "source": []
  }
 ],
 "metadata": {
  "kernelspec": {
   "display_name": "Python 3",
   "language": "python",
   "name": "python3"
  },
  "language_info": {
   "codemirror_mode": {
    "name": "ipython",
    "version": 3
   },
   "file_extension": ".py",
   "mimetype": "text/x-python",
   "name": "python",
   "nbconvert_exporter": "python",
   "pygments_lexer": "ipython3",
   "version": "3.9.4"
  }
 },
 "nbformat": 4,
 "nbformat_minor": 5
}
