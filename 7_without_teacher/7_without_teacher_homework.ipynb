{
 "cells": [
  {
   "cell_type": "markdown",
   "id": "a7f4900b",
   "metadata": {},
   "source": [
    "# Обучение без учителя: метод главных компонент и кластеризация"
   ]
  },
  {
   "cell_type": "markdown",
   "id": "4f5f8ee2",
   "metadata": {},
   "source": [
    "Датасет https://archive.ics.uci.edu/ml/datasets/Human+Activity+Recognition+Using+Smartphones"
   ]
  },
  {
   "cell_type": "code",
   "execution_count": 1,
   "id": "22c6f9d6",
   "metadata": {},
   "outputs": [],
   "source": [
    "import numpy as np\n",
    "import pandas as pd\n",
    "import seaborn as sns\n",
    "\n",
    "from sklearn import metrics\n",
    "from sklearn.cluster import AgglomerativeClustering, KMeans, SpectralClustering\n",
    "from sklearn.decomposition import PCA\n",
    "from sklearn.model_selection import GridSearchCV\n",
    "from sklearn.preprocessing import StandardScaler\n",
    "from sklearn.svm import LinearSVC"
   ]
  },
  {
   "cell_type": "code",
   "execution_count": 4,
   "id": "935483f9",
   "metadata": {},
   "outputs": [],
   "source": [
    "X_train = np.loadtxt(\"samsung_HAR/samsung_train.txt\")\n",
    "y_train = np.loadtxt(\"samsung_HAR/samsung_train_labels.txt\").astype(int)\n",
    "\n",
    "X_test = np.loadtxt(\"samsung_HAR/samsung_test.txt\")\n",
    "y_test = np.loadtxt(\"samsung_HAR/samsung_test_labels.txt\").astype(int)"
   ]
  },
  {
   "cell_type": "code",
   "execution_count": 5,
   "id": "52eb0e75",
   "metadata": {},
   "outputs": [
    {
     "data": {
      "text/plain": [
       "array([[ 0.28858451, -0.02029417, -0.13290514, ..., -0.84124676,\n",
       "         0.17994061, -0.05862692],\n",
       "       [ 0.27841883, -0.01641057, -0.12352019, ..., -0.8447876 ,\n",
       "         0.18028889, -0.05431672],\n",
       "       [ 0.27965306, -0.01946716, -0.11346169, ..., -0.84893347,\n",
       "         0.18063731, -0.04911782],\n",
       "       ...,\n",
       "       [ 0.27338737, -0.01701062, -0.04502183, ..., -0.77913261,\n",
       "         0.24914484,  0.04081119],\n",
       "       [ 0.28965416, -0.01884304, -0.15828059, ..., -0.78518142,\n",
       "         0.24643223,  0.02533948],\n",
       "       [ 0.35150347, -0.01242312, -0.20386717, ..., -0.78326693,\n",
       "         0.24680852,  0.03669484]])"
      ]
     },
     "execution_count": 5,
     "metadata": {},
     "output_type": "execute_result"
    }
   ],
   "source": [
    "X_train"
   ]
  },
  {
   "cell_type": "code",
   "execution_count": 6,
   "id": "1c30a629",
   "metadata": {},
   "outputs": [],
   "source": [
    "assert(X_train.shape == (7352, 561) and y_train.shape == (7352,))\n",
    "assert(X_test.shape == (2947, 561) and y_test.shape == (2947,))"
   ]
  },
  {
   "cell_type": "code",
   "execution_count": 13,
   "id": "15b69d81",
   "metadata": {},
   "outputs": [
    {
     "data": {
      "text/plain": [
       "((2947, 561), (7352, 561))"
      ]
     },
     "execution_count": 13,
     "metadata": {},
     "output_type": "execute_result"
    }
   ],
   "source": [
    "X_test.shape, X_train.shape"
   ]
  },
  {
   "cell_type": "code",
   "execution_count": 16,
   "id": "5e6acb38",
   "metadata": {},
   "outputs": [],
   "source": [
    "X = np.concatenate((X_train, X_test), axis=0)\n",
    "y = np.concatenate((y_train, y_test), axis=0)"
   ]
  },
  {
   "cell_type": "code",
   "execution_count": 17,
   "id": "f110244d",
   "metadata": {},
   "outputs": [
    {
     "data": {
      "text/plain": [
       "((10299, 561), (10299,))"
      ]
     },
     "execution_count": 17,
     "metadata": {},
     "output_type": "execute_result"
    }
   ],
   "source": [
    "X.shape, y.shape"
   ]
  },
  {
   "cell_type": "markdown",
   "id": "8deee5e8",
   "metadata": {},
   "source": [
    "Определим число уникальных значений меток целевого класса."
   ]
  },
  {
   "cell_type": "code",
   "execution_count": 18,
   "id": "3bb73768",
   "metadata": {},
   "outputs": [
    {
     "data": {
      "text/plain": [
       "array([1, 2, 3, 4, 5, 6])"
      ]
     },
     "execution_count": 18,
     "metadata": {},
     "output_type": "execute_result"
    }
   ],
   "source": [
    "np.unique(y)"
   ]
  },
  {
   "cell_type": "code",
   "execution_count": 20,
   "id": "35b350ee",
   "metadata": {},
   "outputs": [
    {
     "data": {
      "text/plain": [
       "6"
      ]
     },
     "execution_count": 20,
     "metadata": {},
     "output_type": "execute_result"
    }
   ],
   "source": [
    "n_classes = np.unique(y).size\n",
    "n_classes"
   ]
  },
  {
   "cell_type": "markdown",
   "id": "651b1422",
   "metadata": {},
   "source": [
    "Эти метки соответствуют:\n",
    "\n",
    "1 - ходьбе\n",
    "\n",
    "2 - подъему вверх по лестнице\n",
    "\n",
    "3 - спуску по лестнице\n",
    "\n",
    "4 - сидению\n",
    "\n",
    "5 - стоянию\n",
    "\n",
    "6 - лежанию"
   ]
  },
  {
   "cell_type": "markdown",
   "id": "041698e5",
   "metadata": {},
   "source": [
    "Отмасштабируйте выборку с помощью StandardScaler с параметрами по умолчанию."
   ]
  },
  {
   "cell_type": "code",
   "execution_count": 22,
   "id": "e6716d76",
   "metadata": {},
   "outputs": [],
   "source": [
    "scaler = StandardScaler()\n",
    "X_scaled =scaler.fit_transform(X)"
   ]
  },
  {
   "cell_type": "markdown",
   "id": "fcd007de",
   "metadata": {},
   "source": [
    "Понижаем размерность с помощью PCA, оставляя столько компонент, сколько нужно для того, чтобы объяснить как минимум 90% дисперсии исходных (отмасштабированных) данных. Используйте отмасштабированную выборку и зафиксируйте random_state (константа RANDOM_STATE)."
   ]
  },
  {
   "cell_type": "code",
   "execution_count": 25,
   "id": "cded6ebf",
   "metadata": {},
   "outputs": [
    {
     "data": {
      "text/plain": [
       "65"
      ]
     },
     "execution_count": 25,
     "metadata": {},
     "output_type": "execute_result"
    }
   ],
   "source": [
    "RANDOM_STATE = 17\n",
    "\n",
    "pca = PCA(random_state=RANDOM_STATE)\n",
    "X_pca = pca.fit_transform(X_scaled)\n",
    "\n",
    "\n",
    "\n",
    "n_components = 0\n",
    "explained_ratio = 0\n",
    "while explained_ratio < 0.9:\n",
    "    explained_ratio += pca.explained_variance_ratio_[n_components]\n",
    "    n_components += 1\n",
    "n_components"
   ]
  },
  {
   "cell_type": "markdown",
   "id": "1d31dffe",
   "metadata": {},
   "source": [
    "Сколько процентов дисперсии приходится на первую главную компоненту? Округлите до целых процентов"
   ]
  },
  {
   "cell_type": "code",
   "execution_count": 26,
   "id": "be6af218",
   "metadata": {},
   "outputs": [
    {
     "data": {
      "text/plain": [
       "0.5073822103501332"
      ]
     },
     "execution_count": 26,
     "metadata": {},
     "output_type": "execute_result"
    }
   ],
   "source": [
    "pca.explained_variance_ratio_[0]"
   ]
  },
  {
   "cell_type": "code",
   "execution_count": 27,
   "id": "2b687670",
   "metadata": {},
   "outputs": [
    {
     "data": {
      "text/plain": [
       "array([[ 3.22020289e-04, -2.65501561e-03, -1.83102105e-03, ...,\n",
       "        -2.32255116e-02,  2.86959980e-02,  2.62231368e-02],\n",
       "       [ 1.66786205e-02,  5.09240538e-04, -4.96277039e-03, ...,\n",
       "         2.48285029e-02, -4.03643784e-02, -2.18803937e-02],\n",
       "       [-3.34516218e-02,  1.85357867e-03,  9.01579462e-03, ...,\n",
       "         9.27247047e-02, -6.63613925e-02, -4.42715263e-02],\n",
       "       ...,\n",
       "       [ 0.00000000e+00,  4.90746737e-17,  1.39802916e-17, ...,\n",
       "        -7.59265715e-17, -5.72771840e-17, -4.15634289e-17],\n",
       "       [-0.00000000e+00,  1.55544982e-16,  7.08595135e-16, ...,\n",
       "        -2.68581687e-15, -5.83413134e-15,  5.83551887e-15],\n",
       "       [-0.00000000e+00,  1.20650918e-16,  3.83251653e-16, ...,\n",
       "        -1.82439046e-15, -4.03276689e-15,  4.16443444e-15]])"
      ]
     },
     "execution_count": 27,
     "metadata": {},
     "output_type": "execute_result"
    }
   ],
   "source": [
    "pca.components_"
   ]
  },
  {
   "cell_type": "markdown",
   "id": "8a1fa1c2",
   "metadata": {},
   "source": [
    "Визуализируйте данные в проекции на первые две главные компоненты."
   ]
  },
  {
   "cell_type": "code",
   "execution_count": 37,
   "id": "012d624d",
   "metadata": {},
   "outputs": [
    {
     "data": {
      "text/plain": [
       "<matplotlib.collections.PathCollection at 0x16f4c3f5850>"
      ]
     },
     "execution_count": 37,
     "metadata": {},
     "output_type": "execute_result"
    },
    {
     "data": {
      "image/png": "[encoded data removed]",
      "text/plain": [
       "<Figure size 432x288 with 1 Axes>"
      ]
     },
     "metadata": {
      "needs_background": "light"
     },
     "output_type": "display_data"
    }
   ],
   "source": [
    "import matplotlib.pyplot as plt\n",
    "\n",
    "plt.scatter(X_pca[:, 0], X_pca[:, 1] , c=y, s=20, cmap='viridis')"
   ]
  },
  {
   "cell_type": "markdown",
   "id": "7c4e631a",
   "metadata": {},
   "source": [
    "Сделайте кластеризацию данных методом KMeans, обучив модель на данных со сниженной за счет PCA размерностью. В данном случае мы подскажем, что нужно искать именно 6 кластеров, но в общем случае мы не будем знать, сколько кластеров надо искать.\n",
    "\n",
    "Параметры:\n",
    "\n",
    "n_clusters = n_classes (число уникальных меток целевого класса)\n",
    "\n",
    "n_init = 100\n",
    "\n",
    "random_state = RANDOM_STATE (для воспроизводимости результата)\n",
    "\n",
    "Остальные параметры со значениями по умолчанию."
   ]
  },
  {
   "cell_type": "code",
   "execution_count": 39,
   "id": "ee4ec8b6",
   "metadata": {},
   "outputs": [],
   "source": [
    "kmeans = KMeans(n_clusters = 6, n_init=100, random_state=RANDOM_STATE)\n",
    "\n",
    "kmeans.fit(X_pca)\n",
    "cluster_labels = kmeans.predict(X_pca)"
   ]
  },
  {
   "cell_type": "code",
   "execution_count": 40,
   "id": "793b7457",
   "metadata": {},
   "outputs": [
    {
     "data": {
      "text/plain": [
       "<matplotlib.collections.PathCollection at 0x16f4a34f1c0>"
      ]
     },
     "execution_count": 40,
     "metadata": {},
     "output_type": "execute_result"
    },
    {
     "data": {
      "image/png": "[encoded data removed]",
      "text/plain": [
       "<Figure size 432x288 with 1 Axes>"
      ]
     },
     "metadata": {
      "needs_background": "light"
     },
     "output_type": "display_data"
    }
   ],
   "source": [
    "plt.scatter(X_pca[:, 0], X_pca[:, 1], c=cluster_labels, s=20,  cmap='viridis')"
   ]
  },
  {
   "cell_type": "markdown",
   "id": "2456dabe",
   "metadata": {},
   "source": [
    "Посмотрите на соответствие между метками кластеров и исходными метками классов и на то, какие виды активностей алгоритм KMeans путает."
   ]
  },
  {
   "cell_type": "code",
   "execution_count": 41,
   "id": "1d272ea9",
   "metadata": {},
   "outputs": [
    {
     "data": {
      "text/html": [
       "<div>\n",
       "<style scoped>\n",
       "    .dataframe tbody tr th:only-of-type {\n",
       "        vertical-align: middle;\n",
       "    }\n",
       "\n",
       "    .dataframe tbody tr th {\n",
       "        vertical-align: top;\n",
       "    }\n",
       "\n",
       "    .dataframe thead th {\n",
       "        text-align: right;\n",
       "    }\n",
       "</style>\n",
       "<table border=\"1\" class=\"dataframe\">\n",
       "  <thead>\n",
       "    <tr style=\"text-align: right;\">\n",
       "      <th></th>\n",
       "      <th>cluster1</th>\n",
       "      <th>cluster2</th>\n",
       "      <th>cluster3</th>\n",
       "      <th>cluster4</th>\n",
       "      <th>cluster5</th>\n",
       "      <th>cluster6</th>\n",
       "      <th>все</th>\n",
       "    </tr>\n",
       "  </thead>\n",
       "  <tbody>\n",
       "    <tr>\n",
       "      <th>ходьба</th>\n",
       "      <td>742</td>\n",
       "      <td>0</td>\n",
       "      <td>0</td>\n",
       "      <td>903</td>\n",
       "      <td>0</td>\n",
       "      <td>77</td>\n",
       "      <td>1722</td>\n",
       "    </tr>\n",
       "    <tr>\n",
       "      <th>подъем вверх по лестнице</th>\n",
       "      <td>295</td>\n",
       "      <td>2</td>\n",
       "      <td>0</td>\n",
       "      <td>1242</td>\n",
       "      <td>0</td>\n",
       "      <td>5</td>\n",
       "      <td>1544</td>\n",
       "    </tr>\n",
       "    <tr>\n",
       "      <th>спуск по лестнице</th>\n",
       "      <td>889</td>\n",
       "      <td>0</td>\n",
       "      <td>0</td>\n",
       "      <td>321</td>\n",
       "      <td>0</td>\n",
       "      <td>196</td>\n",
       "      <td>1406</td>\n",
       "    </tr>\n",
       "    <tr>\n",
       "      <th>сидение</th>\n",
       "      <td>0</td>\n",
       "      <td>451</td>\n",
       "      <td>91</td>\n",
       "      <td>1</td>\n",
       "      <td>1234</td>\n",
       "      <td>0</td>\n",
       "      <td>1777</td>\n",
       "    </tr>\n",
       "    <tr>\n",
       "      <th>стояние</th>\n",
       "      <td>0</td>\n",
       "      <td>566</td>\n",
       "      <td>0</td>\n",
       "      <td>0</td>\n",
       "      <td>1340</td>\n",
       "      <td>0</td>\n",
       "      <td>1906</td>\n",
       "    </tr>\n",
       "    <tr>\n",
       "      <th>лежание</th>\n",
       "      <td>0</td>\n",
       "      <td>330</td>\n",
       "      <td>1556</td>\n",
       "      <td>5</td>\n",
       "      <td>53</td>\n",
       "      <td>0</td>\n",
       "      <td>1944</td>\n",
       "    </tr>\n",
       "    <tr>\n",
       "      <th>все</th>\n",
       "      <td>1926</td>\n",
       "      <td>1349</td>\n",
       "      <td>1647</td>\n",
       "      <td>2472</td>\n",
       "      <td>2627</td>\n",
       "      <td>278</td>\n",
       "      <td>10299</td>\n",
       "    </tr>\n",
       "  </tbody>\n",
       "</table>\n",
       "</div>"
      ],
      "text/plain": [
       "                          cluster1  cluster2  cluster3  cluster4  cluster5  \\\n",
       "ходьба                         742         0         0       903         0   \n",
       "подъем вверх по лестнице       295         2         0      1242         0   \n",
       "спуск по лестнице              889         0         0       321         0   \n",
       "сидение                          0       451        91         1      1234   \n",
       "стояние                          0       566         0         0      1340   \n",
       "лежание                          0       330      1556         5        53   \n",
       "все                           1926      1349      1647      2472      2627   \n",
       "\n",
       "                          cluster6    все  \n",
       "ходьба                          77   1722  \n",
       "подъем вверх по лестнице         5   1544  \n",
       "спуск по лестнице              196   1406  \n",
       "сидение                          0   1777  \n",
       "стояние                          0   1906  \n",
       "лежание                          0   1944  \n",
       "все                            278  10299  "
      ]
     },
     "execution_count": 41,
     "metadata": {},
     "output_type": "execute_result"
    }
   ],
   "source": [
    "tab = pd.crosstab(y, cluster_labels, margins=True)\n",
    "tab.index = ['ходьба', 'подъем вверх по лестнице', \n",
    "             'спуск по лестнице', 'сидение', 'стояние', 'лежание', 'все']\n",
    "tab.columns = ['cluster' + str(i + 1) for i in range(6)] + ['все']\n",
    "tab"
   ]
  },
  {
   "cell_type": "code",
   "execution_count": 57,
   "id": "45b0798e",
   "metadata": {},
   "outputs": [
    {
     "name": "stdout",
     "output_type": "stream",
     "text": [
      "ходьба 0.524390243902439\n",
      "подъем вверх по лестнице 0.8044041450777202\n",
      "спуск по лестнице 0.6322901849217639\n",
      "сидение 0.6944288126055149\n",
      "стояние 0.7030430220356768\n",
      "лежание 0.8004115226337448\n"
     ]
    }
   ],
   "source": [
    "for idx in tab.index[:-1]:\n",
    "    print(idx, tab.loc[idx][:-1].max() / tab.loc[idx][:-1].sum())"
   ]
  },
  {
   "cell_type": "code",
   "execution_count": 59,
   "id": "76f1e828",
   "metadata": {},
   "outputs": [
    {
     "data": {
      "image/png": "[encoded data removed]",
      "text/plain": [
       "<Figure size 432x288 with 1 Axes>"
      ]
     },
     "metadata": {
      "needs_background": "light"
     },
     "output_type": "display_data"
    }
   ],
   "source": [
    "inertia = []\n",
    "for k in range(1, 7):\n",
    "    kmeans = KMeans(n_clusters=k, random_state=1).fit(X_pca)\n",
    "    inertia.append(np.sqrt(kmeans.inertia_))\n",
    "\n",
    "plt.plot(range(1, 7), inertia, marker='s');\n",
    "plt.xlabel('$k$')\n",
    "plt.ylabel('$J(C_k)$');"
   ]
  },
  {
   "cell_type": "markdown",
   "id": "ff8f029f",
   "metadata": {},
   "source": [
    "Попробуем еще один метод кластеризации, который описывался в статье – агломеративную кластеризацию."
   ]
  },
  {
   "cell_type": "code",
   "execution_count": 60,
   "id": "f812ba74",
   "metadata": {},
   "outputs": [],
   "source": [
    "ag = AgglomerativeClustering(n_clusters=n_classes, linkage='ward').fit(X_pca)"
   ]
  },
  {
   "cell_type": "markdown",
   "id": "9996a328",
   "metadata": {},
   "source": [
    "Посчитайте Adjusted Rand Index (sklearn.metrics) для получившегося разбиения на кластеры и для KMeans с параметрами из задания к 4 вопросу."
   ]
  },
  {
   "cell_type": "code",
   "execution_count": 62,
   "id": "c9fd325e",
   "metadata": {},
   "outputs": [
    {
     "name": "stdout",
     "output_type": "stream",
     "text": [
      "Aglomerative:  0.459874890109388\n",
      "Kmeans:  0.419224271062724\n"
     ]
    }
   ],
   "source": [
    "print('Aglomerative: ', metrics.adjusted_rand_score(y, ag.labels_))"
   ]
  },
  {
   "cell_type": "code",
   "execution_count": 63,
   "id": "851d3fbc",
   "metadata": {},
   "outputs": [
    {
     "name": "stdout",
     "output_type": "stream",
     "text": [
      "Kmeans:  0.419224271062724\n"
     ]
    }
   ],
   "source": [
    "kmeans = KMeans(n_clusters = 6, n_init=100, random_state=RANDOM_STATE)\n",
    "kmeans.fit(X_pca)\n",
    "cluster_labels = kmeans.predict(X_pca)\n",
    "print('Kmeans: ', metrics.adjusted_rand_score(y, cluster_labels))"
   ]
  },
  {
   "cell_type": "markdown",
   "id": "3c6f880e",
   "metadata": {},
   "source": [
    "Можно заметить, что задача не очень хорошо решается именно как задача кластеризации, если выделять несколько кластеров (> 2). Давайте теперь решим задачу классификации, вспомнив, что данные у нас размечены.\n",
    "\n",
    "Для классификации используйте метод опорных векторов – класс sklearn.svm.LinearSVC. Мы в курсе отдельно не рассматривали этот алгоритм, но он очень известен, почитать про него можно, например, в материалах Евгения Соколова – тут.\n",
    "\n",
    "Настройте для LinearSVC гиперпараметр C с помощью GridSearchCV.\n",
    "\n",
    "Обучите новый StandardScaler на обучающей выборке (со всеми исходными признаками), прмиените масштабирование к тестовой выборке\n",
    "В GridSearchCV укажите cv=3."
   ]
  },
  {
   "cell_type": "code",
   "execution_count": 65,
   "id": "aea002b2",
   "metadata": {},
   "outputs": [],
   "source": [
    "X_train_scaled = StandardScaler().fit_transform(X_train)\n",
    "X_test_scaled = StandardScaler().fit_transform(X_test)"
   ]
  },
  {
   "cell_type": "code",
   "execution_count": 66,
   "id": "c2ddac4e",
   "metadata": {},
   "outputs": [],
   "source": [
    "svc = LinearSVC(random_state=RANDOM_STATE)\n",
    "svc_params = {'C': [0.001, 0.01, 0.1, 1, 10]}"
   ]
  },
  {
   "cell_type": "code",
   "execution_count": 67,
   "id": "5e9ba215",
   "metadata": {},
   "outputs": [
    {
     "name": "stderr",
     "output_type": "stream",
     "text": [
      "C:\\Users\\alexe\\AppData\\Roaming\\Python\\Python39\\site-packages\\sklearn\\svm\\_base.py:985: ConvergenceWarning: Liblinear failed to converge, increase the number of iterations.\n",
      "  warnings.warn(\"Liblinear failed to converge, increase \"\n",
      "C:\\Users\\alexe\\AppData\\Roaming\\Python\\Python39\\site-packages\\sklearn\\svm\\_base.py:985: ConvergenceWarning: Liblinear failed to converge, increase the number of iterations.\n",
      "  warnings.warn(\"Liblinear failed to converge, increase \"\n",
      "C:\\Users\\alexe\\AppData\\Roaming\\Python\\Python39\\site-packages\\sklearn\\svm\\_base.py:985: ConvergenceWarning: Liblinear failed to converge, increase the number of iterations.\n",
      "  warnings.warn(\"Liblinear failed to converge, increase \"\n",
      "C:\\Users\\alexe\\AppData\\Roaming\\Python\\Python39\\site-packages\\sklearn\\svm\\_base.py:985: ConvergenceWarning: Liblinear failed to converge, increase the number of iterations.\n",
      "  warnings.warn(\"Liblinear failed to converge, increase \"\n",
      "C:\\Users\\alexe\\AppData\\Roaming\\Python\\Python39\\site-packages\\sklearn\\svm\\_base.py:985: ConvergenceWarning: Liblinear failed to converge, increase the number of iterations.\n",
      "  warnings.warn(\"Liblinear failed to converge, increase \"\n",
      "C:\\Users\\alexe\\AppData\\Roaming\\Python\\Python39\\site-packages\\sklearn\\svm\\_base.py:985: ConvergenceWarning: Liblinear failed to converge, increase the number of iterations.\n",
      "  warnings.warn(\"Liblinear failed to converge, increase \"\n",
      "C:\\Users\\alexe\\AppData\\Roaming\\Python\\Python39\\site-packages\\sklearn\\svm\\_base.py:985: ConvergenceWarning: Liblinear failed to converge, increase the number of iterations.\n",
      "  warnings.warn(\"Liblinear failed to converge, increase \"\n",
      "C:\\Users\\alexe\\AppData\\Roaming\\Python\\Python39\\site-packages\\sklearn\\svm\\_base.py:985: ConvergenceWarning: Liblinear failed to converge, increase the number of iterations.\n",
      "  warnings.warn(\"Liblinear failed to converge, increase \"\n",
      "C:\\Users\\alexe\\AppData\\Roaming\\Python\\Python39\\site-packages\\sklearn\\svm\\_base.py:985: ConvergenceWarning: Liblinear failed to converge, increase the number of iterations.\n",
      "  warnings.warn(\"Liblinear failed to converge, increase \"\n",
      "C:\\Users\\alexe\\AppData\\Roaming\\Python\\Python39\\site-packages\\sklearn\\svm\\_base.py:985: ConvergenceWarning: Liblinear failed to converge, increase the number of iterations.\n",
      "  warnings.warn(\"Liblinear failed to converge, increase \"\n"
     ]
    },
    {
     "data": {
      "text/plain": [
       "GridSearchCV(cv=3, estimator=LinearSVC(random_state=17),\n",
       "             param_grid={'C': [0.001, 0.01, 0.1, 1, 10]})"
      ]
     },
     "execution_count": 67,
     "metadata": {},
     "output_type": "execute_result"
    }
   ],
   "source": [
    "svc_cv = GridSearchCV(svc, param_grid=svc_params, cv=3)\n",
    "svc_cv.fit(X_train_scaled, y_train)"
   ]
  },
  {
   "cell_type": "code",
   "execution_count": 68,
   "id": "99565750",
   "metadata": {},
   "outputs": [
    {
     "data": {
      "text/plain": [
       "{'C': 0.1}"
      ]
     },
     "execution_count": 68,
     "metadata": {},
     "output_type": "execute_result"
    }
   ],
   "source": [
    "svc_cv.best_params_"
   ]
  },
  {
   "cell_type": "markdown",
   "id": "5687c852",
   "metadata": {},
   "source": [
    "Какое значение гиперпараметра C было выбрано лучшим по итогам кросс-валидации?"
   ]
  },
  {
   "cell_type": "code",
   "execution_count": 70,
   "id": "782f813b",
   "metadata": {},
   "outputs": [],
   "source": [
    "y_predicted = svc_cv.predict(X_test_scaled)"
   ]
  },
  {
   "cell_type": "code",
   "execution_count": 71,
   "id": "f47fd959",
   "metadata": {},
   "outputs": [
    {
     "data": {
      "text/html": [
       "<div>\n",
       "<style scoped>\n",
       "    .dataframe tbody tr th:only-of-type {\n",
       "        vertical-align: middle;\n",
       "    }\n",
       "\n",
       "    .dataframe tbody tr th {\n",
       "        vertical-align: top;\n",
       "    }\n",
       "\n",
       "    .dataframe thead th {\n",
       "        text-align: right;\n",
       "    }\n",
       "</style>\n",
       "<table border=\"1\" class=\"dataframe\">\n",
       "  <thead>\n",
       "    <tr style=\"text-align: right;\">\n",
       "      <th></th>\n",
       "      <th>ходьба</th>\n",
       "      <th>подъем вверх по лестнице</th>\n",
       "      <th>спуск по лестнице</th>\n",
       "      <th>сидение</th>\n",
       "      <th>стояние</th>\n",
       "      <th>лежание</th>\n",
       "      <th>все</th>\n",
       "    </tr>\n",
       "  </thead>\n",
       "  <tbody>\n",
       "    <tr>\n",
       "      <th>ходьба</th>\n",
       "      <td>479</td>\n",
       "      <td>11</td>\n",
       "      <td>4</td>\n",
       "      <td>2</td>\n",
       "      <td>0</td>\n",
       "      <td>0</td>\n",
       "      <td>496</td>\n",
       "    </tr>\n",
       "    <tr>\n",
       "      <th>подъем вверх по лестнице</th>\n",
       "      <td>4</td>\n",
       "      <td>465</td>\n",
       "      <td>1</td>\n",
       "      <td>1</td>\n",
       "      <td>0</td>\n",
       "      <td>0</td>\n",
       "      <td>471</td>\n",
       "    </tr>\n",
       "    <tr>\n",
       "      <th>спуск по лестнице</th>\n",
       "      <td>1</td>\n",
       "      <td>2</td>\n",
       "      <td>416</td>\n",
       "      <td>1</td>\n",
       "      <td>0</td>\n",
       "      <td>0</td>\n",
       "      <td>420</td>\n",
       "    </tr>\n",
       "    <tr>\n",
       "      <th>сидение</th>\n",
       "      <td>0</td>\n",
       "      <td>4</td>\n",
       "      <td>0</td>\n",
       "      <td>433</td>\n",
       "      <td>52</td>\n",
       "      <td>2</td>\n",
       "      <td>491</td>\n",
       "    </tr>\n",
       "    <tr>\n",
       "      <th>стояние</th>\n",
       "      <td>0</td>\n",
       "      <td>0</td>\n",
       "      <td>0</td>\n",
       "      <td>16</td>\n",
       "      <td>516</td>\n",
       "      <td>0</td>\n",
       "      <td>532</td>\n",
       "    </tr>\n",
       "    <tr>\n",
       "      <th>лежание</th>\n",
       "      <td>0</td>\n",
       "      <td>0</td>\n",
       "      <td>0</td>\n",
       "      <td>0</td>\n",
       "      <td>6</td>\n",
       "      <td>531</td>\n",
       "      <td>537</td>\n",
       "    </tr>\n",
       "    <tr>\n",
       "      <th>все</th>\n",
       "      <td>484</td>\n",
       "      <td>482</td>\n",
       "      <td>421</td>\n",
       "      <td>453</td>\n",
       "      <td>574</td>\n",
       "      <td>533</td>\n",
       "      <td>2947</td>\n",
       "    </tr>\n",
       "  </tbody>\n",
       "</table>\n",
       "</div>"
      ],
      "text/plain": [
       "                          ходьба  подъем вверх по лестнице  спуск по лестнице  \\\n",
       "ходьба                       479                        11                  4   \n",
       "подъем вверх по лестнице       4                       465                  1   \n",
       "спуск по лестнице              1                         2                416   \n",
       "сидение                        0                         4                  0   \n",
       "стояние                        0                         0                  0   \n",
       "лежание                        0                         0                  0   \n",
       "все                          484                       482                421   \n",
       "\n",
       "                          сидение  стояние  лежание   все  \n",
       "ходьба                          2        0        0   496  \n",
       "подъем вверх по лестнице        1        0        0   471  \n",
       "спуск по лестнице               1        0        0   420  \n",
       "сидение                       433       52        2   491  \n",
       "стояние                        16      516        0   532  \n",
       "лежание                         0        6      531   537  \n",
       "все                           453      574      533  2947  "
      ]
     },
     "execution_count": 71,
     "metadata": {},
     "output_type": "execute_result"
    }
   ],
   "source": [
    "tab = pd.crosstab(y_test, y_predicted, margins=True)\n",
    "tab.index = ['ходьба', 'подъем вверх по лестнице', 'спуск по лестнице', \n",
    "             'сидение', 'стояние', 'лежание', 'все']\n",
    "tab.columns = tab.index\n",
    "tab"
   ]
  },
  {
   "cell_type": "code",
   "execution_count": null,
   "id": "1bc584c4",
   "metadata": {},
   "outputs": [],
   "source": []
  }
 ],
 "metadata": {
  "kernelspec": {
   "display_name": "Python 3",
   "language": "python",
   "name": "python3"
  },
  "language_info": {
   "codemirror_mode": {
    "name": "ipython",
    "version": 3
   },
   "file_extension": ".py",
   "mimetype": "text/x-python",
   "name": "python",
   "nbconvert_exporter": "python",
   "pygments_lexer": "ipython3",
   "version": "3.9.4"
  }
 },
 "nbformat": 4,
 "nbformat_minor": 5
}
